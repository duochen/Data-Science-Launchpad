{
 "cells": [
  {
   "cell_type": "markdown",
   "id": "40d5371b-0f5b-495c-8fff-11ac4b15987e",
   "metadata": {},
   "source": [
    "# Simple Linear Regression"
   ]
  },
  {
   "cell_type": "markdown",
   "id": "920bc571-3340-4cf2-9105-0e749633f58f",
   "metadata": {},
   "source": [
    "## Linear regression with NumPy"
   ]
  },
  {
   "cell_type": "code",
   "execution_count": 8,
   "id": "8de18171-24a8-4c87-b5c6-e1d89bdfff31",
   "metadata": {},
   "outputs": [],
   "source": [
    "import numpy as np"
   ]
  },
  {
   "cell_type": "code",
   "execution_count": 2,
   "id": "29e68ef0-d8d5-4d10-b649-9c02b73dbf2a",
   "metadata": {},
   "outputs": [
    {
     "name": "stdout",
     "output_type": "stream",
     "text": [
      "Intercept: 2.200000000000004\n",
      "Slope: 0.6000000000000005\n",
      "Predictions: [2.8 3.4 4.  4.6 5.2]\n"
     ]
    }
   ],
   "source": [
    "# Suppose we have some data\n",
    "X = np.array([1, 2, 3, 4, 5])\n",
    "y = np.array([2, 4, 5, 4, 5])\n",
    "\n",
    "# Reshape X to be a two-dimensional array for matrix operations\n",
    "X = X.reshape(-1, 1)\n",
    "\n",
    "# Add a column of ones to X for the intercept\n",
    "X_bias = np.hstack([np.ones((X.shape[0], 1)), X])\n",
    "\n",
    "# Compute beta using OLS formula: (X^T X)^(-1) X^T y\n",
    "beta = np.linalg.inv(X_bias.T @ X_bias) @ X_bias.T @ y\n",
    "\n",
    "# beta[0] is intercept, beta[1] is slope\n",
    "print(\"Intercept:\", beta[0])\n",
    "print(\"Slope:\", beta[1])\n",
    "\n",
    "# Make predictions\n",
    "y_pred = X_bias @ beta\n",
    "print(\"Predictions:\", y_pred)"
   ]
  },
  {
   "cell_type": "markdown",
   "id": "5e663e56-8256-4b08-a589-57628df50fa7",
   "metadata": {},
   "source": [
    "#### Key Points:\n",
    "The above approach illustrates the math behind OLS, but in practice, we rely on libraries like scikit-learn for convenience and additional\n",
    "functionality."
   ]
  },
  {
   "cell_type": "markdown",
   "id": "c07ce4b4-c0aa-444e-af2d-a189d1d6dbc2",
   "metadata": {},
   "source": [
    "## Linear Regression with scikit-learn"
   ]
  },
  {
   "cell_type": "code",
   "execution_count": 3,
   "id": "82aba4e9-59b8-4231-84d4-f96942df3b17",
   "metadata": {},
   "outputs": [],
   "source": [
    "import numpy as np\n",
    "from sklearn.linear_model import LinearRegression\n",
    "from sklearn.model_selection import train_test_split"
   ]
  },
  {
   "cell_type": "code",
   "execution_count": 6,
   "id": "c1f871cc-b68b-4e06-b7d3-936c2dd4b044",
   "metadata": {},
   "outputs": [
    {
     "name": "stdout",
     "output_type": "stream",
     "text": [
      "Intercept: 1.454545454545455\n",
      "Slope: 0.818181818181818\n",
      "Predictions on test set: [8.81818182 3.09090909 6.36363636 2.27272727]\n",
      "R^2 score on test set: 0.9601452073839499\n"
     ]
    }
   ],
   "source": [
    "# Dummy dataset\n",
    "X = np.array([[1], [2], [3], [4], [5], [6], [7], [8], [9], [10]])\n",
    "y = np.array([2, 4, 5, 4, 5, 6, 7, 8, 9, 10])\n",
    "\n",
    "# Split into training and testing sets\n",
    "X_train, X_test, y_train, y_test = train_test_split(X, y, test_size=0.4, random_state=42)\n",
    "\n",
    "# Initialize and fit the model\n",
    "model = LinearRegression()\n",
    "model.fit(X_train, y_train)\n",
    "\n",
    "# Extract coefficients\n",
    "intercept = model.intercept_\n",
    "slope = model.coef_[0]\n",
    "print(\"Intercept:\", intercept)\n",
    "print(\"Slope:\", slope)\n",
    "\n",
    "# Predictions\n",
    "y_pred = model.predict(X_test)\n",
    "print(\"Predictions on test set:\", y_pred)\n",
    "\n",
    "# Performance evaluation (e.g., R^2 score)\n",
    "r2 = model.score(X_test, y_test)\n",
    "print(\"R^2 score on test set:\", r2)"
   ]
  },
  {
   "cell_type": "markdown",
   "id": "13536f0d-fbc3-4d71-9d16-049b45e5d8bc",
   "metadata": {},
   "source": [
    "#### Key Points:\n",
    "LinearRegression automatically handles the intercept term. Use model.coef_ and model.intercept_ to access parameters.\n",
    "model.score() returns the R² (coefficient of determination), a measure of how well the regression line fits the data."
   ]
  },
  {
   "cell_type": "markdown",
   "id": "076ca644-4fe5-47c5-9dd3-1f40a96d55cf",
   "metadata": {},
   "source": [
    "# Multiple Linear Regression"
   ]
  },
  {
   "cell_type": "code",
   "execution_count": 9,
   "id": "e11a7722-da28-42d7-9649-e9a0003cc117",
   "metadata": {},
   "outputs": [],
   "source": [
    "import pandas as pd\n",
    "from sklearn.linear_model import LinearRegression\n",
    "from sklearn.model_selection import train_test_split"
   ]
  },
  {
   "cell_type": "code",
   "execution_count": 11,
   "id": "4e89bb2b-1912-4bc1-ac87-1436801e56e2",
   "metadata": {},
   "outputs": [
    {
     "name": "stdout",
     "output_type": "stream",
     "text": [
      "Intercept: 1.6097560975609744\n",
      "Coefficients: [0.52439024 0.54878049]\n",
      "R^2 on test set: 0.8912477691850085\n"
     ]
    }
   ],
   "source": [
    "# Expanded dataset with 10 rows\n",
    "data = pd.DataFrame({\n",
    "    'X1': [1, 2, 3, 4, 5, 6, 7, 8, 9, 10],\n",
    "    'X2': [2, 3, 1, 5, 4, 6, 7, 8, 6, 9],\n",
    "    'y':  [3, 5, 4, 7, 6, 8, 9, 10, 9, 12]\n",
    "})\n",
    "\n",
    "# Feature matrix and target\n",
    "X = data[['X1', 'X2']]\n",
    "y = data['y']\n",
    "\n",
    "# Split the data into training and testing sets\n",
    "X_train, X_test, y_train, y_test = train_test_split(\n",
    "    X, y, test_size=0.2, random_state=42\n",
    ")\n",
    "\n",
    "# Train the model\n",
    "model = LinearRegression()\n",
    "model.fit(X_train, y_train)\n",
    "\n",
    "# Output model parameters and test score\n",
    "print(\"Intercept:\", model.intercept_)\n",
    "print(\"Coefficients:\", model.coef_)\n",
    "print(\"R^2 on test set:\", model.score(X_test, y_test))"
   ]
  },
  {
   "cell_type": "markdown",
   "id": "177947e3-b92e-458b-a06d-5ea1b72d9c96",
   "metadata": {},
   "source": [
    "#### Key Points:\n",
    "The model.coef_ now returns an array of coefficients, one for each predictor, describing the relationship between that predictor and the\n",
    "response variable when other predictors are held constant."
   ]
  },
  {
   "cell_type": "code",
   "execution_count": 13,
   "id": "5480e1c2-56ff-4d37-8f70-970680330dd2",
   "metadata": {},
   "outputs": [
    {
     "name": "stdout",
     "output_type": "stream",
     "text": [
      "MSE: 0.43500892325996615\n",
      "MAE: 0.6585365853658551\n",
      "R²: 0.8912477691850085\n"
     ]
    }
   ],
   "source": [
    "from sklearn.metrics import mean_squared_error, mean_absolute_error, r2_score\n",
    "\n",
    "y_pred = model.predict(X_test)\n",
    "\n",
    "mse = mean_squared_error(y_test, y_pred)\n",
    "mae = mean_absolute_error(y_test, y_pred)\n",
    "\n",
    "r2 = r2_score(y_test, y_pred)\n",
    "\n",
    "print(\"MSE:\", mse)\n",
    "print(\"MAE:\", mae)\n",
    "print(\"R²:\", r2)"
   ]
  },
  {
   "cell_type": "code",
   "execution_count": null,
   "id": "bf892b4f-fd19-4c43-bff6-55fded87ce77",
   "metadata": {},
   "outputs": [],
   "source": []
  }
 ],
 "metadata": {
  "kernelspec": {
   "display_name": "Python 3 (ipykernel)",
   "language": "python",
   "name": "python3"
  },
  "language_info": {
   "codemirror_mode": {
    "name": "ipython",
    "version": 3
   },
   "file_extension": ".py",
   "mimetype": "text/x-python",
   "name": "python",
   "nbconvert_exporter": "python",
   "pygments_lexer": "ipython3",
   "version": "3.9.21"
  }
 },
 "nbformat": 4,
 "nbformat_minor": 5
}
