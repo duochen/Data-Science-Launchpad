{
 "cells": [
  {
   "cell_type": "markdown",
   "id": "736c6136-1b1f-42d7-92d8-24485dd61462",
   "metadata": {},
   "source": [
    "## 🐾 Project 2: Classify Animals (Mammal, Bird, Reptile)\n",
    "\n",
    "### 📝 Description:\n",
    "\n",
    "Students will classify animals based on physical features like number of legs, whether it lays eggs, or lives in water.\n",
    "\n",
    "### 📁 Dataset:\n",
    "\n",
    "You can create a small custom dataset for simplicity. Here's an example dataset:\n",
    "\n",
    "| Name      | Legs | Has\\_Fur | Lays\\_Eggs | Lives\\_In\\_Water | Class   |\n",
    "| --------- | ---- | -------- | ---------- | ---------------- | ------- |\n",
    "| Dog       | 4    | 1        | 0          | 0                | Mammal  |\n",
    "| Eagle     | 2    | 0        | 1          | 0                | Bird    |\n",
    "| Crocodile | 4    | 0        | 1          | 1                | Reptile |\n",
    "| Cat       | 4    | 1        | 0          | 0                | Mammal  |\n",
    "| Penguin   | 2    | 0        | 1          | 1                | Bird    |\n",
    "\n",
    "### 💡 Concepts:\n",
    "\n",
    "* Multi-class classification\n",
    "* Label encoding\n",
    "* Decision Tree for interpretability\n",
    "* Model accuracy and confusion matrix"
   ]
  },
  {
   "cell_type": "code",
   "execution_count": 1,
   "id": "31074ed2-9627-424d-826b-ae4d14b11c7d",
   "metadata": {},
   "outputs": [],
   "source": [
    "import pandas as pd\n",
    "from sklearn.model_selection import train_test_split\n",
    "from sklearn.preprocessing import LabelEncoder\n",
    "from sklearn.tree import DecisionTreeClassifier\n",
    "from sklearn.metrics import accuracy_score, confusion_matrix\n",
    "import matplotlib.pyplot as plt\n",
    "import seaborn as sns"
   ]
  },
  {
   "cell_type": "code",
   "execution_count": 2,
   "id": "e09c3e88-c4ac-4eb5-a0a6-00ee543aa74d",
   "metadata": {},
   "outputs": [],
   "source": [
    "# 1. Define the dataset\n",
    "data = {\n",
    "    \"Legs\": [4, 2, 4, 4, 2],\n",
    "    \"Has_Fur\": [1, 0, 0, 1, 0],\n",
    "    \"Lays_Eggs\": [0, 1, 1, 0, 1],\n",
    "    \"Lives_In_Water\": [0, 0, 1, 0, 1],\n",
    "    \"Class\": [\"Mammal\", \"Bird\", \"Reptile\", \"Mammal\", \"Bird\"]\n",
    "}\n",
    "df = pd.DataFrame(data)"
   ]
  },
  {
   "cell_type": "code",
   "execution_count": 3,
   "id": "13be7b05-0009-4201-82e1-58e3a185202a",
   "metadata": {},
   "outputs": [],
   "source": [
    "# 2. Encode target\n",
    "le = LabelEncoder()\n",
    "df[\"Class_encoded\"] = le.fit_transform(df[\"Class\"])  # Mammal=1, Bird=0, Reptile=2"
   ]
  },
  {
   "cell_type": "code",
   "execution_count": 4,
   "id": "d15e40ba-4107-46a2-ba11-041619d66337",
   "metadata": {},
   "outputs": [],
   "source": [
    "# 3. Prepare features and target\n",
    "X = df[[\"Legs\", \"Has_Fur\", \"Lays_Eggs\", \"Lives_In_Water\"]]\n",
    "y = df[\"Class_encoded\"]"
   ]
  },
  {
   "cell_type": "code",
   "execution_count": 5,
   "id": "abac9dfe-51d2-4a46-8d4c-bd5d973cd8ba",
   "metadata": {},
   "outputs": [],
   "source": [
    "# 4. Train-test split\n",
    "X_train, X_test, y_train, y_test = train_test_split(X, y, test_size=0.2, random_state=42)"
   ]
  },
  {
   "cell_type": "code",
   "execution_count": 6,
   "id": "e3b14917-6627-46d0-bba7-1b2755a96c72",
   "metadata": {},
   "outputs": [],
   "source": [
    "# 5. Train decision tree\n",
    "model = DecisionTreeClassifier()\n",
    "model.fit(X_train, y_train)\n",
    "y_pred = model.predict(X_test)"
   ]
  },
  {
   "cell_type": "code",
   "execution_count": 7,
   "id": "913ee259-c3fa-4335-9004-9062f650118e",
   "metadata": {},
   "outputs": [
    {
     "name": "stdout",
     "output_type": "stream",
     "text": [
      "Accuracy: 1.00\n"
     ]
    }
   ],
   "source": [
    "# 6. Evaluate\n",
    "acc = accuracy_score(y_test, y_pred)\n",
    "print(f\"Accuracy: {acc:.2f}\")"
   ]
  },
  {
   "cell_type": "code",
   "execution_count": 9,
   "id": "abdf5bb0-ec46-49f9-b7d4-c9c75e33a8ca",
   "metadata": {},
   "outputs": [
    {
     "data": {
      "image/png": "[encoded data removed]",
      "text/plain": [
       "<Figure size 640x480 with 2 Axes>"
      ]
     },
     "metadata": {},
     "output_type": "display_data"
    }
   ],
   "source": [
    "# 7. Confusion Matrix\n",
    "conf_matrix = confusion_matrix(y_test, y_pred, labels=[0, 1, 2])\n",
    "sns.heatmap(conf_matrix, annot=True, cmap=\"Greens\", \n",
    "            xticklabels=le.inverse_transform([0, 1, 2]), \n",
    "            yticklabels=le.inverse_transform([0, 1, 2]))\n",
    "plt.title(\"Animal Type Classification Confusion Matrix\")\n",
    "plt.xlabel(\"Predicted\")\n",
    "plt.ylabel(\"Actual\")\n",
    "plt.show()"
   ]
  },
  {
   "cell_type": "code",
   "execution_count": null,
   "id": "c08dff74-18ba-49fb-af6b-1cf1f4d9f345",
   "metadata": {},
   "outputs": [],
   "source": []
  }
 ],
 "metadata": {
  "kernelspec": {
   "display_name": "Python 3 (ipykernel)",
   "language": "python",
   "name": "python3"
  },
  "language_info": {
   "codemirror_mode": {
    "name": "ipython",
    "version": 3
   },
   "file_extension": ".py",
   "mimetype": "text/x-python",
   "name": "python",
   "nbconvert_exporter": "python",
   "pygments_lexer": "ipython3",
   "version": "3.9.21"
  }
 },
 "nbformat": 4,
 "nbformat_minor": 5
}
