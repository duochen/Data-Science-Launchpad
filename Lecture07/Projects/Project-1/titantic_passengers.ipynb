{
 "cells": [
  {
   "cell_type": "markdown",
   "id": "32598626-ca2a-4e78-a434-76f6a1d14206",
   "metadata": {},
   "source": [
    "## 📌 Project 1: Classifying Titanic Passengers (Survived or Not)\n",
    "\n",
    "### 📝 Description:\n",
    "\n",
    "Can we predict whether a passenger on the Titanic survived based on features like age, sex, and class? This project will use the famous Titanic dataset.\n",
    "\n",
    "### 📁 Dataset:\n",
    "\n",
    "You can use the cleaned version of the Titanic dataset from Kaggle or directly load it with `seaborn`.\n",
    "\n",
    "### 💡 Concepts:\n",
    "\n",
    "* Binary classification (`Survived` = 0 or 1)\n",
    "* Preprocessing (drop missing data, encode categorical variables)\n",
    "* Decision Tree & KNN classifiers\n",
    "* Accuracy and confusion matrix"
   ]
  },
  {
   "cell_type": "code",
   "execution_count": 6,
   "id": "7c420147-9159-4c73-bd3a-4800da2e1644",
   "metadata": {},
   "outputs": [],
   "source": [
    "import pandas as pd\n",
    "import seaborn as sns\n",
    "import matplotlib.pyplot as plt\n",
    "from sklearn.model_selection import train_test_split\n",
    "from sklearn.preprocessing import LabelEncoder\n",
    "from sklearn.tree import DecisionTreeClassifier\n",
    "from sklearn.neighbors import KNeighborsClassifier\n",
    "from sklearn.metrics import accuracy_score, confusion_matrix"
   ]
  },
  {
   "cell_type": "code",
   "execution_count": 7,
   "id": "7ef66d9c-61df-4d9c-9ffb-986726c218ad",
   "metadata": {},
   "outputs": [],
   "source": [
    "# 1. Load dataset\n",
    "df = sns.load_dataset(\"titanic\")\n",
    "df = df[[\"pclass\", \"sex\", \"age\", \"fare\", \"survived\"]].dropna()"
   ]
  },
  {
   "cell_type": "code",
   "execution_count": 8,
   "id": "5198d6e9-6d0f-48f0-83d7-839fc00bf722",
   "metadata": {},
   "outputs": [],
   "source": [
    "# 2. Encode categorical column\n",
    "df[\"sex\"] = LabelEncoder().fit_transform(df[\"sex\"])  # male=1, female=0"
   ]
  },
  {
   "cell_type": "code",
   "execution_count": 9,
   "id": "aed1f0ec-b6ed-4707-b524-d9fbcb51e7dc",
   "metadata": {},
   "outputs": [],
   "source": [
    "# 3. Split features and target\n",
    "X = df[[\"pclass\", \"sex\", \"age\", \"fare\"]]\n",
    "y = df[\"survived\"]"
   ]
  },
  {
   "cell_type": "code",
   "execution_count": 10,
   "id": "6ff9613e-da06-4e8a-aae2-7cf58e3ccac5",
   "metadata": {},
   "outputs": [],
   "source": [
    "# 4. Train-test split\n",
    "X_train, X_test, y_train, y_test = train_test_split(X, y, test_size=0.2, random_state=42)"
   ]
  },
  {
   "cell_type": "code",
   "execution_count": 11,
   "id": "6a51c552-a72c-4537-8706-a2d6393aa8d7",
   "metadata": {},
   "outputs": [
    {
     "name": "stdout",
     "output_type": "stream",
     "text": [
      "Decision Tree Accuracy: 0.71\n"
     ]
    }
   ],
   "source": [
    "# 5. Decision Tree Classifier\n",
    "tree = DecisionTreeClassifier()\n",
    "tree.fit(X_train, y_train)\n",
    "y_pred_tree = tree.predict(X_test)\n",
    "acc_tree = accuracy_score(y_test, y_pred_tree)\n",
    "print(f\"Decision Tree Accuracy: {acc_tree:.2f}\")"
   ]
  },
  {
   "cell_type": "code",
   "execution_count": 12,
   "id": "59da45f6-2bcc-4c8a-8f9f-5892af24e586",
   "metadata": {},
   "outputs": [
    {
     "name": "stdout",
     "output_type": "stream",
     "text": [
      "KNN Accuracy: 0.66\n"
     ]
    }
   ],
   "source": [
    "# 6. KNN Classifier\n",
    "knn = KNeighborsClassifier(n_neighbors=5)\n",
    "knn.fit(X_train, y_train)\n",
    "y_pred_knn = knn.predict(X_test)\n",
    "acc_knn = accuracy_score(y_test, y_pred_knn)\n",
    "print(f\"KNN Accuracy: {acc_knn:.2f}\")"
   ]
  },
  {
   "cell_type": "code",
   "execution_count": 13,
   "id": "cb2ab692-f046-4e12-9f3e-b6bfb754d18d",
   "metadata": {},
   "outputs": [
    {
     "data": {
      "image/png": "[encoded data removed]",
      "text/plain": [
       "<Figure size 640x480 with 2 Axes>"
      ]
     },
     "metadata": {},
     "output_type": "display_data"
    }
   ],
   "source": [
    "# 7. Confusion Matrix for Decision Tree\n",
    "conf_matrix = confusion_matrix(y_test, y_pred_tree)\n",
    "sns.heatmap(conf_matrix, annot=True, fmt=\"d\", cmap=\"Blues\")\n",
    "plt.title(\"Decision Tree Confusion Matrix\")\n",
    "plt.xlabel(\"Predicted\")\n",
    "plt.ylabel(\"Actual\")\n",
    "plt.show()"
   ]
  },
  {
   "cell_type": "markdown",
   "id": "582e2157-50a7-4026-b77c-ab2a0050275d",
   "metadata": {},
   "source": [
    "## 🖼️ Visualization: **Decision Tree Confusion Matrix (Titanic Dataset)**\n",
    "\n",
    "### 📊 What You See:\n",
    "\n",
    "* A **confusion matrix heatmap** showing the number of correct and incorrect predictions made by the decision tree model.\n",
    "* Axes:\n",
    "\n",
    "  * **X-axis (Predicted)**: What the model predicted — whether the passenger survived (`1`) or not (`0`)\n",
    "  * **Y-axis (Actual)**: The ground truth — whether the passenger actually survived (`1`) or not (`0`)\n",
    "* **Color intensity**: Indicates how many cases fall into each cell.\n",
    "* **Numbers inside boxes**: Count of passengers per outcome type.\n",
    "\n",
    "---\n",
    "\n",
    "## 🔍 How to Interpret:\n",
    "\n",
    "### Confusion Matrix Layout:\n",
    "\n",
    "|                             | Predicted Not Survived (0)                                   | Predicted Survived (1)                                          |\n",
    "| --------------------------- | ------------------------------------------------------------ | --------------------------------------------------------------- |\n",
    "| **Actual Not Survived (0)** | **True Negatives (TN)** – model correctly predicted death    | **False Positives (FP)** – model incorrectly predicted survival |\n",
    "| **Actual Survived (1)**     | **False Negatives (FN)** – model incorrectly predicted death | **True Positives (TP)** – model correctly predicted survival    |\n",
    "\n",
    "---\n",
    "\n",
    "### ✅ What You Want to See:\n",
    "\n",
    "* **High values on the diagonal**:\n",
    "\n",
    "  * **Top-left (TN)** and **bottom-right (TP)** indicate correct predictions.\n",
    "* **Low values off-diagonal**:\n",
    "\n",
    "  * These indicate mistakes (FP or FN).\n",
    "\n",
    "---\n",
    "\n",
    "### 📈 Accuracy Score:\n",
    "\n",
    "* Also printed in the console: e.g.,\n",
    "  `Decision Tree Accuracy: 0.81`\n",
    "  means the model predicted correctly 81% of the time on the test set.\n",
    "\n",
    "---\n",
    "\n",
    "## 🧠 Example Interpretation:\n",
    "\n",
    "Imagine this confusion matrix:\n",
    "\n",
    "```\n",
    "[[65  8]\n",
    " [12 34]]\n",
    "```\n",
    "\n",
    "* **65 passengers** who actually died were correctly predicted as dead (TN)\n",
    "* **8 passengers** were wrongly predicted to survive (FP)\n",
    "* **12 survivors** were wrongly predicted to die (FN)\n",
    "* **34 passengers** who survived were correctly predicted (TP)\n",
    "\n",
    "So:\n",
    "\n",
    "* The model does fairly well in distinguishing between survivors and non-survivors.\n",
    "* But there’s room to improve — especially reducing **false negatives** (12 survivors missed)."
   ]
  },
  {
   "cell_type": "code",
   "execution_count": null,
   "id": "0f15ade9-b7f5-4128-8f56-5b9bf04698f6",
   "metadata": {},
   "outputs": [],
   "source": []
  }
 ],
 "metadata": {
  "kernelspec": {
   "display_name": "Python 3 (ipykernel)",
   "language": "python",
   "name": "python3"
  },
  "language_info": {
   "codemirror_mode": {
    "name": "ipython",
    "version": 3
   },
   "file_extension": ".py",
   "mimetype": "text/x-python",
   "name": "python",
   "nbconvert_exporter": "python",
   "pygments_lexer": "ipython3",
   "version": "3.9.21"
  }
 },
 "nbformat": 4,
 "nbformat_minor": 5
}
