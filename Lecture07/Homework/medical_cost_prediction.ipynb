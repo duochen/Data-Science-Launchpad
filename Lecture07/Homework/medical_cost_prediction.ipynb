{
 "cells": [
  {
   "cell_type": "markdown",
   "id": "1ddc790d-ff10-48e1-9a51-805c5cbe9158",
   "metadata": {},
   "source": [
    "# Project: Medical Cost Predication\n",
    "## Objective\n",
    "### Goal: \n",
    "Predict an individual’s medical insurance cost (charges) using their demographic features.\n",
    "### Real-World Application: \n",
    "Insurance companies can estimate premiums for customers based on health factors and risk attributes,\n",
    "while individuals can learn how personal factors (e.g., smoking, BMI, age) affect insurance costs.\n",
    "### Method: \n",
    "Since the objective is to determine the relationship between a number of factors(features) and cost(target), it would be a Supervised Learning problem. We would apply Multiple Linear Regression.\n",
    "### Dataset:\n",
    "The dataset1 contains:\n",
    "- age: Age of primary beneficiary.\n",
    "- sex: Gender of the beneficiary (male/female).\n",
    "- bmi: Body mass index.\n",
    "- children: Number of children/dependents covered by insurance.\n",
    "- smoker: Smoking behavior (yes/no).\n",
    "- region: The beneficiary’s residential area in the US (northeast, southeast, southwest, northwest).\n",
    "- charges: Individual medical costs billed by health insurance."
   ]
  },
  {
   "cell_type": "code",
   "execution_count": null,
   "id": "09a68e3c-748e-4ac3-92e0-486cf396151f",
   "metadata": {},
   "outputs": [],
   "source": []
  }
 ],
 "metadata": {
  "kernelspec": {
   "display_name": "Python 3 (ipykernel)",
   "language": "python",
   "name": "python3"
  },
  "language_info": {
   "codemirror_mode": {
    "name": "ipython",
    "version": 3
   },
   "file_extension": ".py",
   "mimetype": "text/x-python",
   "name": "python",
   "nbconvert_exporter": "python",
   "pygments_lexer": "ipython3",
   "version": "3.9.21"
  }
 },
 "nbformat": 4,
 "nbformat_minor": 5
}
