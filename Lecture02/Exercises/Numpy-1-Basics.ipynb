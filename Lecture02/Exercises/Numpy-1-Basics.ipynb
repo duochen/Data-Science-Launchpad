{
 "cells": [
  {
   "cell_type": "markdown",
   "id": "51a634dc-1e7c-4e61-a18f-9ac8b17ece79",
   "metadata": {},
   "source": [
    "## 1. Introduction to NumPy Arrays\n",
    "\n",
    "The main data structure in the NumPy library is the NumPy array, which is\n",
    "an extremely fast and memory-efficient data structure. The NumPy array is\n",
    "much faster than the common Python list and provides vectorized matrix\n",
    "operations."
   ]
  },
  {
   "cell_type": "markdown",
   "id": "0089246a-097d-4232-8493-4f392354db45",
   "metadata": {},
   "source": [
    "## 2. Numpy Data Types\n",
    "The NumPy library supports all the default Python data types in addition to\n",
    "some of its intrinsic data types. This means that the default Python data types,\n",
    "e.g., strings, integers, floats, Booleans, and complex data types, can be stored\n",
    "in NumPy arrays."
   ]
  },
  {
   "cell_type": "code",
   "execution_count": 4,
   "id": "70b96673-484d-47a4-ba29-f235a08cd883",
   "metadata": {},
   "outputs": [],
   "source": [
    "# Import the NumPy library and give it the alias 'np'\n",
    "import numpy as np"
   ]
  },
  {
   "cell_type": "code",
   "execution_count": 5,
   "id": "cf389807-7c20-4014-b5e4-26f9f652bf6c",
   "metadata": {},
   "outputs": [
    {
     "name": "stdout",
     "output_type": "stream",
     "text": [
      "[10 12 14 16 20 25]\n",
      "int32\n",
      "4\n"
     ]
    }
   ],
   "source": [
    "# Create a NumPy array with the given list of integers\n",
    "my_array = np.array([10, 12, 14, 16, 20, 25])\n",
    "\n",
    "# Print the entire array\n",
    "print(my_array)  # Output: [10 12 14 16 20 25]\n",
    "\n",
    "# Print the data type of the elements in the array\n",
    "print(my_array.dtype)  # Output: dtype of the array elements (e.g., int32 or int64)\n",
    "\n",
    "# Print the size in bytes of each element in the array\n",
    "print(my_array.dtype.itemsize)  # Output: number of bytes used by each element (4 bytes)"
   ]
  },
  {
   "cell_type": "code",
   "execution_count": 7,
   "id": "19c908cc-3202-4813-85d2-a4f6625d603c",
   "metadata": {},
   "outputs": [
    {
     "name": "stdout",
     "output_type": "stream",
     "text": [
      "['Red' 'Green' 'Orange']\n",
      "<U6\n",
      "24\n"
     ]
    }
   ],
   "source": [
    "# Create a NumPy array with three string elements\n",
    "my_array = np.array([\"Red\", \"Green\", \"Orange\"])\n",
    "\n",
    "# Print the contents of the array\n",
    "print(my_array)\n",
    "\n",
    "# Print the data type of the elements in the array\n",
    "# Since it's a string array, dtype will show a Unicode string type like <U6 (max 6 characters)\n",
    "print(my_array.dtype)\n",
    "\n",
    "# Print the size in bytes of each element in the array\n",
    "# This shows how many bytes each element occupies in memory\n",
    "print(my_array.dtype.itemsize)"
   ]
  },
  {
   "cell_type": "code",
   "execution_count": 9,
   "id": "649bc2a9-98c1-4860-9729-19627f5f7467",
   "metadata": {},
   "outputs": [
    {
     "name": "stdout",
     "output_type": "stream",
     "text": [
      "['1990-10-04' '1989-05-06' '1990-11-04']\n",
      "<U10\n",
      "40\n"
     ]
    }
   ],
   "source": [
    "# Create a NumPy array of strings (each string is a date in YYYY-MM-DD format)\n",
    "my_array = np.array([\"1990-10-04\", \"1989-05-06\", \"1990-11-04\"])\n",
    "\n",
    "# Print the contents of the array\n",
    "print(my_array)  # Output: ['1990-10-04' '1989-05-06' '1990-11-04']\n",
    "\n",
    "# Print the data type of the array elements\n",
    "print(my_array.dtype)  # Output: <U10 (Unicode string of max length 10)\n",
    "\n",
    "# Print the size in bytes of each item in the array\n",
    "print(my_array.dtype.itemsize)  # Output: 40 (since each Unicode character is 4 bytes and max length is 10 -> 10*4)"
   ]
  },
  {
   "cell_type": "code",
   "execution_count": 12,
   "id": "c3e85a1b-bf49-4ac1-9312-f572b6dd6063",
   "metadata": {},
   "outputs": [
    {
     "name": "stdout",
     "output_type": "stream",
     "text": [
      "datetime64[D]\n",
      "8\n"
     ]
    }
   ],
   "source": [
    "# Convert the data type of the existing NumPy array (my_array) to datetime64 with default unit (nanoseconds)\n",
    "# The \"M\" means datetime64 in NumPy (it can store dates and times)\n",
    "my_array3 = my_array.astype(\"M\")\n",
    "\n",
    "# Print the data type of the new array (should show datetime64[ns] or similar)\n",
    "print(my_array3.dtype)\n",
    "\n",
    "# Print the size in bytes of each element in the new array\n",
    "# datetime64 elements typically use 8 bytes (64 bits)\n",
    "print(my_array3.dtype.itemsize)"
   ]
  },
  {
   "cell_type": "code",
   "execution_count": 15,
   "id": "3564a04c-7064-47d0-99fb-29d2afd3c626",
   "metadata": {},
   "outputs": [
    {
     "name": "stdout",
     "output_type": "stream",
     "text": [
      "['1990-10-04' '1989-05-06' '1990-11-04']\n",
      "datetime64[D]\n",
      "8\n"
     ]
    }
   ],
   "source": [
    "# Create a NumPy array of date strings and specify dtype=\"M\" (datetime64)\n",
    "my_array = np.array([\"1990-10-04\", \"1989-05-06\", \"1990-11-04\"], dtype=\"M\")\n",
    "\n",
    "# Print the array; it will display as NumPy datetime64 objects\n",
    "print(my_array)\n",
    "\n",
    "# Print the data type of the array elements (should be datetime64[D])\n",
    "print(my_array.dtype)\n",
    "\n",
    "# Print the size in bytes of one array element (datetime64[D] typically uses 8 bytes)\n",
    "print(my_array.dtype.itemsize)"
   ]
  },
  {
   "cell_type": "markdown",
   "id": "a4681ac0-1c50-4c89-9149-7f1a8fae9a49",
   "metadata": {},
   "source": [
    "## 3. Creating NumPy Arrays\n",
    "Depending on the type of data you need inside your NumPy array, different\n",
    "methods can be used to create a NumPy array."
   ]
  },
  {
   "cell_type": "markdown",
   "id": "ed45c395-b259-4edf-8248-52c4c014e85f",
   "metadata": {},
   "source": [
    "### 3.1 Using Array Method\n",
    "To create a NumPy array, you can pass a list to the array() method of the NumPy module."
   ]
  },
  {
   "cell_type": "code",
   "execution_count": 19,
   "id": "9c17eab7-0c3c-45ae-8f42-e8c70ab05ae0",
   "metadata": {},
   "outputs": [
    {
     "data": {
      "text/plain": [
       "numpy.ndarray"
      ]
     },
     "execution_count": 19,
     "metadata": {},
     "output_type": "execute_result"
    }
   ],
   "source": [
    "# Define a Python list with some integer values\n",
    "nums_list = [10, 12, 14, 16, 20]\n",
    "\n",
    "# Convert the Python list into a NumPy array\n",
    "nums_array = np.array(nums_list)\n",
    "\n",
    "# Check and display the type of nums_array (should be <class 'numpy.ndarray'>)\n",
    "type(nums_array)"
   ]
  },
  {
   "cell_type": "code",
   "execution_count": 21,
   "id": "66d63915-2cd2-46bc-ac00-99f85bd1e3ff",
   "metadata": {},
   "outputs": [
    {
     "data": {
      "text/plain": [
       "(3, 3)"
      ]
     },
     "execution_count": 21,
     "metadata": {},
     "output_type": "execute_result"
    }
   ],
   "source": [
    "# Define three lists representing rows of a 2D array\n",
    "row1 = [10, 12, 13]  # First row with three elements\n",
    "row2 = [45, 32, 16]  # Second row with three elements\n",
    "row3 = [45, 32, 16]  # Third row with three elements (same as row2)\n",
    "\n",
    "# Create a 2D NumPy array (matrix) from the three rows\n",
    "nums_2d = np.array([row1, row2, row3])\n",
    "\n",
    "# Get the shape of the 2D array\n",
    "# This returns a tuple (number_of_rows, number_of_columns)\n",
    "nums_2d.shape  # Output: (3, 3) because there are 3 rows and 3 columns"
   ]
  },
  {
   "cell_type": "markdown",
   "id": "fd7c70fd-87e8-4766-87a4-e03054448fb0",
   "metadata": {},
   "source": [
    "### 3.2 Using Arrange Method\n",
    "With the arrange () method, you can create a NumPy array that contains a\n",
    "range of integers. The first parameter to the arrange method is the lower\n",
    "bound, and the second parameter is the upper bound. The lower bound is\n",
    "included in the array. However, the upper bound is not included."
   ]
  },
  {
   "cell_type": "code",
   "execution_count": 23,
   "id": "3291d737-2b58-4a7d-8e47-12aa496a4914",
   "metadata": {},
   "outputs": [
    {
     "name": "stdout",
     "output_type": "stream",
     "text": [
      "[ 5  6  7  8  9 10]\n"
     ]
    }
   ],
   "source": [
    "# Create a NumPy array with values starting from 5 up to (but not including) 11\n",
    "nums_arr = np.arange(5, 11)  \n",
    "\n",
    "# Print the created NumPy array\n",
    "print(nums_arr)"
   ]
  },
  {
   "cell_type": "code",
   "execution_count": 25,
   "id": "edd09171-8ff1-4580-acab-1081b9543508",
   "metadata": {},
   "outputs": [
    {
     "name": "stdout",
     "output_type": "stream",
     "text": [
      "[ 5  7  9 11]\n"
     ]
    }
   ],
   "source": [
    "# Create a NumPy array with values starting from 5 up to (but not including) 12, with a step size of 2\n",
    "nums_arr = np.arange(5, 12, 2)\n",
    "\n",
    "# Print the resulting array to the console\n",
    "print(nums_arr)"
   ]
  },
  {
   "cell_type": "markdown",
   "id": "7303126a-b72c-45a3-9714-52f98ed5a3c8",
   "metadata": {},
   "source": [
    "### 3.3 Using Ones Method\n",
    "The ones() method can be used to create a NumPy array of all ones."
   ]
  },
  {
   "cell_type": "code",
   "execution_count": 26,
   "id": "3b2caf6d-854c-4f0b-a9df-6ad3b01089b5",
   "metadata": {},
   "outputs": [
    {
     "name": "stdout",
     "output_type": "stream",
     "text": [
      "[1. 1. 1. 1. 1. 1.]\n"
     ]
    }
   ],
   "source": [
    "# Create a NumPy array of size 6 where all elements are 1.0 (default dtype is float)\n",
    "ones_array = np.ones(6)\n",
    "\n",
    "# Print the created array to the console\n",
    "print(ones_array)"
   ]
  },
  {
   "cell_type": "code",
   "execution_count": 27,
   "id": "3fa83309-917a-4555-ac67-df735bf74bdb",
   "metadata": {},
   "outputs": [
    {
     "name": "stdout",
     "output_type": "stream",
     "text": [
      "[[1. 1. 1. 1.]\n",
      " [1. 1. 1. 1.]\n",
      " [1. 1. 1. 1.]\n",
      " [1. 1. 1. 1.]\n",
      " [1. 1. 1. 1.]\n",
      " [1. 1. 1. 1.]]\n"
     ]
    }
   ],
   "source": [
    "# Create a 6x4 array filled with ones\n",
    "ones_array = np.ones((6, 4))\n",
    "\n",
    "# Print the array to the console\n",
    "print(ones_array)"
   ]
  },
  {
   "cell_type": "markdown",
   "id": "672e1c7e-1f0c-41b7-bcd3-50402737bfec",
   "metadata": {},
   "source": [
    "### 3.4 Using Zeros Method\n",
    "The zeros() method can be used to create a NumPy array of all zeros."
   ]
  },
  {
   "cell_type": "code",
   "execution_count": 29,
   "id": "41c54a0d-0b8c-4ba1-a651-868d023a876b",
   "metadata": {},
   "outputs": [
    {
     "name": "stdout",
     "output_type": "stream",
     "text": [
      "[0. 0. 0. 0. 0. 0.]\n"
     ]
    }
   ],
   "source": [
    "# Create a NumPy array of length 6 filled with zeros\n",
    "zeros_array = np.zeros(6)\n",
    "\n",
    "# Print the array to the console\n",
    "print(zeros_array)"
   ]
  },
  {
   "cell_type": "code",
   "execution_count": 30,
   "id": "05a721df-492a-4477-aed2-c1a01dee9d78",
   "metadata": {},
   "outputs": [
    {
     "name": "stdout",
     "output_type": "stream",
     "text": [
      "[[0. 0. 0. 0.]\n",
      " [0. 0. 0. 0.]\n",
      " [0. 0. 0. 0.]\n",
      " [0. 0. 0. 0.]\n",
      " [0. 0. 0. 0.]\n",
      " [0. 0. 0. 0.]]\n"
     ]
    }
   ],
   "source": [
    "# Create a 2D NumPy array (matrix) of shape (6, 4) filled with zeros\n",
    "zeros_array = np.zeros((6, 4))\n",
    "\n",
    "# Print the array to the console\n",
    "print(zeros_array)"
   ]
  },
  {
   "cell_type": "markdown",
   "id": "439cb21b-340b-4dc4-bef0-ca8d3772e4b1",
   "metadata": {},
   "source": [
    "### 3.5 Using Eyes Method\n",
    "The eye() method is used to create an identity matrix in the form of a twodimensional\n",
    "NumPy array. An identity matrix contains 1s along the diagonal,\n",
    "while the rest of the elements are 0 in the array."
   ]
  },
  {
   "cell_type": "code",
   "execution_count": 31,
   "id": "d1181489-d5bc-42ff-a874-2a5db5533279",
   "metadata": {},
   "outputs": [
    {
     "name": "stdout",
     "output_type": "stream",
     "text": [
      "[[1. 0. 0. 0. 0.]\n",
      " [0. 1. 0. 0. 0.]\n",
      " [0. 0. 1. 0. 0.]\n",
      " [0. 0. 0. 1. 0.]\n",
      " [0. 0. 0. 0. 1.]]\n"
     ]
    }
   ],
   "source": [
    "# Create a 5x5 identity matrix using np.eye()\n",
    "# An identity matrix has 1's on the diagonal and 0's elsewhere\n",
    "eyes_array = np.eye(5)\n",
    "\n",
    "# Print the resulting 5x5 identity matrix to the console\n",
    "print(eyes_array)"
   ]
  },
  {
   "cell_type": "markdown",
   "id": "167a2405-b5f7-4b65-a998-8bda9ffac504",
   "metadata": {},
   "source": [
    "### 3.6 Using Random Method\n",
    "The random.rand() function from the NumPy module can be used to create\n",
    "a NumPy array with uniform distribution."
   ]
  },
  {
   "cell_type": "code",
   "execution_count": 33,
   "id": "b65bdad6-f21a-4485-b380-f55b20d15adc",
   "metadata": {},
   "outputs": [
    {
     "name": "stdout",
     "output_type": "stream",
     "text": [
      "[[0.62987708 0.64049863 0.38782618 0.93707607 0.47108732]\n",
      " [0.68870667 0.69878135 0.34268919 0.67006862 0.98412537]\n",
      " [0.96124806 0.87254572 0.15566187 0.4900693  0.80279346]\n",
      " [0.95050039 0.50218701 0.76270319 0.39453532 0.8847946 ]]\n"
     ]
    }
   ],
   "source": [
    "# Generate a 4x5 array of random numbers uniformly distributed between 0 and 1\n",
    "uniform_random = np.random.rand(4, 5)\n",
    "\n",
    "# Print the generated 4x5 array to the console\n",
    "print(uniform_random)"
   ]
  },
  {
   "cell_type": "code",
   "execution_count": 34,
   "id": "226d7c59-66cb-4892-a133-2e15ba2ccd87",
   "metadata": {},
   "outputs": [
    {
     "name": "stdout",
     "output_type": "stream",
     "text": [
      "[[ 0.80499536  2.54836929 -0.45601348  0.42304521 -1.26984654]\n",
      " [ 0.74009432  1.4857653   0.12907637 -0.44859458 -0.34207067]\n",
      " [ 0.32943771  0.15232069  0.96790114 -2.40587923  0.68016379]\n",
      " [ 1.18145413 -0.72025265 -0.23976155  0.81708831 -0.64636418]]\n"
     ]
    }
   ],
   "source": [
    "# Generate a 4x5 array (4 rows, 5 columns) of random numbers\n",
    "# Each number is drawn from a standard normal distribution (mean = 0, std dev = 1)\n",
    "normal_random = np.random.randn(4, 5)\n",
    "\n",
    "# Print the generated 4x5 array of random numbers\n",
    "print(normal_random)"
   ]
  },
  {
   "cell_type": "code",
   "execution_count": 35,
   "id": "a3e12256-5775-4217-8e15-c99f5605e500",
   "metadata": {},
   "outputs": [
    {
     "name": "stdout",
     "output_type": "stream",
     "text": [
      "[33 27 48 19 43]\n"
     ]
    }
   ],
   "source": [
    "# Generate an array of 5 random integers between 10 (inclusive) and 50 (exclusive)\n",
    "integer_random = np.random.randint(10, 50, 5)\n",
    "\n",
    "# Print the array of random integers\n",
    "print(integer_random)"
   ]
  },
  {
   "cell_type": "markdown",
   "id": "21f34543-453d-47a3-a121-a54aeaf75d01",
   "metadata": {},
   "source": [
    "## 4. Printing NumPy Arrays\n",
    "Depending on the dimensions, there are various ways to display the NumPy\n",
    "arrays.\n",
    "The simplest way to print a NumPy array is to pass the array to the print\n",
    "method"
   ]
  },
  {
   "cell_type": "code",
   "execution_count": 37,
   "id": "3243d3e0-8352-4f36-bcf1-fb895d30d9fe",
   "metadata": {},
   "outputs": [
    {
     "name": "stdout",
     "output_type": "stream",
     "text": [
      "[10 12 14 16 20 25]\n"
     ]
    }
   ],
   "source": [
    "# Create a NumPy array with the elements 10, 12, 14, 16, 20, and 25\n",
    "my_array = np.array([10, 12, 14, 16, 20, 25])\n",
    "\n",
    "# Print the contents of the array to the console\n",
    "print(my_array)"
   ]
  },
  {
   "cell_type": "code",
   "execution_count": 38,
   "id": "4977ef9b-0324-45b7-be50-a19f79def5eb",
   "metadata": {},
   "outputs": [
    {
     "name": "stdout",
     "output_type": "stream",
     "text": [
      "1\n",
      "(6,)\n"
     ]
    }
   ],
   "source": [
    "# Print the number of dimensions (axes) of the NumPy array\n",
    "print(my_array.ndim)\n",
    "\n",
    "# Print the shape of the NumPy array as a tuple (size along each dimension)\n",
    "print(my_array.shape)"
   ]
  },
  {
   "cell_type": "code",
   "execution_count": 39,
   "id": "36853048-f824-4147-bbba-946764c2b4c0",
   "metadata": {},
   "outputs": [
    {
     "name": "stdout",
     "output_type": "stream",
     "text": [
      "10\n",
      "12\n",
      "14\n",
      "16\n",
      "20\n",
      "25\n"
     ]
    }
   ],
   "source": [
    "# Loop over each element in the NumPy array 'my_array'\n",
    "for i in my_array:\n",
    "    # Print the current element 'i'\n",
    "    print(i)"
   ]
  },
  {
   "cell_type": "code",
   "execution_count": 40,
   "id": "f36b2a47-4413-42a3-8725-980b7722cdad",
   "metadata": {},
   "outputs": [
    {
     "name": "stdout",
     "output_type": "stream",
     "text": [
      "[[5 3 2 1 4]\n",
      " [5 6 9 5 6]\n",
      " [6 3 4 5 6]\n",
      " [9 9 7 6 4]]\n"
     ]
    }
   ],
   "source": [
    "# Generate a 4x5 array of random integers between 1 and 10 (inclusive)\n",
    "# np.random.randint(low, high, size) generates random integers from low (inclusive) to high (exclusive)\n",
    "# Here, 1 is inclusive, 11 is exclusive (so values are from 1 to 10)\n",
    "integer_random = np.random.randint(1, 11, size=(4, 5))\n",
    "\n",
    "# Print the generated 4x5 array of random integers\n",
    "print(integer_random)"
   ]
  },
  {
   "cell_type": "code",
   "execution_count": 41,
   "id": "a681a17c-4596-44d3-93dd-e88b33d62555",
   "metadata": {},
   "outputs": [
    {
     "name": "stdout",
     "output_type": "stream",
     "text": [
      "2\n",
      "(4, 5)\n"
     ]
    }
   ],
   "source": [
    "# Print the number of dimensions (axes) of the NumPy array 'integer_random'\n",
    "print(integer_random.ndim)\n",
    "\n",
    "# Print the shape of the NumPy array 'integer_random' as a tuple (size along each dimension)\n",
    "print(integer_random.shape)"
   ]
  },
  {
   "cell_type": "code",
   "execution_count": 43,
   "id": "d5451289-b721-40cb-a6aa-c06d273a75f3",
   "metadata": {},
   "outputs": [
    {
     "name": "stdout",
     "output_type": "stream",
     "text": [
      "[5 3 2 1 4]\n",
      "[5 6 9 5 6]\n",
      "[6 3 4 5 6]\n",
      "[9 9 7 6 4]\n"
     ]
    }
   ],
   "source": [
    "# Iterate over each element in the NumPy array `integer_random`\n",
    "for i in integer_random:\n",
    "    # Print the current element `i`\n",
    "    print(i)"
   ]
  },
  {
   "cell_type": "code",
   "execution_count": 44,
   "id": "6327e120-1f47-4dd0-9722-be7c2920acd9",
   "metadata": {},
   "outputs": [
    {
     "name": "stdout",
     "output_type": "stream",
     "text": [
      "5\n",
      "3\n",
      "2\n",
      "1\n",
      "4\n",
      "5\n",
      "6\n",
      "9\n",
      "5\n",
      "6\n",
      "6\n",
      "3\n",
      "4\n",
      "5\n",
      "6\n",
      "9\n",
      "9\n",
      "7\n",
      "6\n",
      "4\n"
     ]
    }
   ],
   "source": [
    "# Loop through each row in the 2D NumPy array `integer_random`\n",
    "for rows in integer_random:\n",
    "    # Loop through each element (column) in the current row\n",
    "    for column in rows:\n",
    "        # Print the current element (column value)\n",
    "        print(column)"
   ]
  },
  {
   "cell_type": "markdown",
   "id": "48309c0f-4c83-4f1e-890b-666cc4eea637",
   "metadata": {},
   "source": [
    "## 5. Adding Items in a NumPy Array\n",
    "To add the items into a NumPy array, you can use the append() method from\n",
    "the NumPy module. First, you need to pass the original array and the item\n",
    "that you want to append to the array to the append() method. The append()\n",
    "method returns a new array that contains newly added items appended to the\n",
    "end of the original array."
   ]
  },
  {
   "cell_type": "code",
   "execution_count": 45,
   "id": "8ddc7b84-4730-48c9-88c0-903e61e4e2c4",
   "metadata": {},
   "outputs": [
    {
     "name": "stdout",
     "output_type": "stream",
     "text": [
      "['Red' 'Green' 'Orange']\n",
      "['Red' 'Green' 'Orange' 'Yellow']\n"
     ]
    }
   ],
   "source": [
    "# Create a NumPy array with three string elements: \"Red\", \"Green\", and \"Orange\"\n",
    "my_array = np.array([\"Red\", \"Green\", \"Orange\"])\n",
    "\n",
    "# Print the original array\n",
    "print(my_array)\n",
    "\n",
    "# Use np.append() to add the string \"Yellow\" to the end of the array\n",
    "# Note: np.append() does not modify the original array; it returns a new array\n",
    "extended = np.append(my_array, \"Yellow\")\n",
    "\n",
    "# Print the new array that includes the appended element\n",
    "print(extended)"
   ]
  },
  {
   "cell_type": "code",
   "execution_count": 46,
   "id": "1a6f4bd0-09f6-43f5-866c-2974366ccb0d",
   "metadata": {},
   "outputs": [
    {
     "name": "stdout",
     "output_type": "stream",
     "text": [
      "['Red' 'Green' 'Orange']\n",
      "['Red' 'Green' 'Orange' 'Yellow' 'Pink']\n"
     ]
    }
   ],
   "source": [
    "# Create a NumPy array with three string elements: \"Red\", \"Green\", and \"Orange\"\n",
    "my_array = np.array([\"Red\", \"Green\", \"Orange\"])\n",
    "\n",
    "# Print the original array\n",
    "print(my_array)  # Output: ['Red' 'Green' 'Orange']\n",
    "\n",
    "# Use np.append to add two more elements \"Yellow\" and \"Pink\" to the original array\n",
    "# Note: np.append does not modify the original array; it returns a new extended array\n",
    "extended = np.append(my_array, [\"Yellow\", \"Pink\"])\n",
    "\n",
    "# Print the new extended array\n",
    "print(extended)  # Output: ['Red' 'Green' 'Orange' 'Yellow' 'Pink']"
   ]
  },
  {
   "cell_type": "code",
   "execution_count": 47,
   "id": "d4d9bb4c-12d1-4ff5-a63a-ed72a3a148ee",
   "metadata": {},
   "outputs": [
    {
     "name": "stdout",
     "output_type": "stream",
     "text": [
      "[[0. 0. 0.]\n",
      " [0. 0. 0.]\n",
      " [0. 0. 0.]]\n"
     ]
    }
   ],
   "source": [
    "# Create a 3x3 array filled with zeros\n",
    "zeros_array = np.zeros((3, 3))\n",
    "\n",
    "# Print the 3x3 array of zeros to the console\n",
    "print(zeros_array)"
   ]
  },
  {
   "cell_type": "code",
   "execution_count": 48,
   "id": "cc0a8e83-82d2-403d-ba97-8954edd76e50",
   "metadata": {},
   "outputs": [
    {
     "name": "stdout",
     "output_type": "stream",
     "text": [
      "[[0. 0. 0.]\n",
      " [0. 0. 0.]\n",
      " [0. 0. 0.]]\n",
      "Extended Array\n",
      "[[0. 0. 0.]\n",
      " [0. 0. 0.]\n",
      " [0. 0. 0.]\n",
      " [1. 2. 3.]]\n"
     ]
    }
   ],
   "source": [
    "# Create a 3x3 array filled with zeros\n",
    "zeros_array = np.zeros((3, 3))\n",
    "\n",
    "# Print the original 3x3 array of zeros\n",
    "print(zeros_array)\n",
    "\n",
    "print(\"Extended Array\")\n",
    "\n",
    "# Append a new row [1, 2, 3] to the original array along axis 0 (rows)\n",
    "# axis=0 means we are adding the new row at the bottom of the existing array\n",
    "extended = np.append(zeros_array, [[1, 2, 3]], axis=0)\n",
    "\n",
    "# Print the extended array which now has 4 rows (the original 3 plus the new row)\n",
    "print(extended)"
   ]
  },
  {
   "cell_type": "code",
   "execution_count": 49,
   "id": "c0df94c2-e7e9-428b-be4a-22d250db8e81",
   "metadata": {},
   "outputs": [
    {
     "name": "stdout",
     "output_type": "stream",
     "text": [
      "[[0. 0. 0.]\n",
      " [0. 0. 0.]\n",
      " [0. 0. 0.]]\n",
      "Extended Array\n",
      "[[0. 0. 0. 1.]\n",
      " [0. 0. 0. 2.]\n",
      " [0. 0. 0. 3.]]\n"
     ]
    }
   ],
   "source": [
    "# Create a 3x3 array filled with zeros\n",
    "zeros_array = np.zeros((3, 3))  \n",
    "print(zeros_array)  # Print the original 3x3 zeros array\n",
    "\n",
    "print(\"Extended Array\")  # Print a label to indicate the next output is the extended array\n",
    "\n",
    "# Append a new column [[1], [2], [3]] to the original array along axis 1 (columns)\n",
    "# The new column has 3 rows and 1 column, matching the number of rows in zeros_array\n",
    "extended = np.append(zeros_array, [[1], [2], [3]], axis=1)\n",
    "\n",
    "print(extended)  # Print the resulting 3x4 array after appending"
   ]
  },
  {
   "cell_type": "markdown",
   "id": "6a85ddd3-7d62-485d-96f2-62e89ea4afbe",
   "metadata": {},
   "source": [
    "## 6. Removing Items from a NumPy Array\n",
    "To delete an item from an array, you may use the delete() method. You need\n",
    "to pass the existing array and the index of the item to be deleted to the\n",
    "delete() method."
   ]
  },
  {
   "cell_type": "code",
   "execution_count": 51,
   "id": "2b211dd3-2a85-4e43-b3fd-ef4575bbb723",
   "metadata": {},
   "outputs": [
    {
     "name": "stdout",
     "output_type": "stream",
     "text": [
      "['Red' 'Green' 'Orange']\n",
      "After deletion\n",
      "['Red' 'Orange']\n"
     ]
    }
   ],
   "source": [
    "# Create a NumPy array with string elements\n",
    "my_array = np.array([\"Red\", \"Green\", \"Orange\"])\n",
    "\n",
    "# Print the original array\n",
    "print(my_array)\n",
    "\n",
    "# Print a message to indicate the next output is after deletion\n",
    "print(\"After deletion\")\n",
    "\n",
    "# Delete the element at index 1 (\"Green\") from the array\n",
    "# np.delete(array, index) returns a new array with the specified index removed\n",
    "updated_array = np.delete(my_array, 1)\n",
    "\n",
    "# Print the updated array after deletion\n",
    "print(updated_array)"
   ]
  },
  {
   "cell_type": "code",
   "execution_count": 52,
   "id": "0fc5feb5-1945-434d-98b1-7bef30c5ee4e",
   "metadata": {},
   "outputs": [
    {
     "name": "stdout",
     "output_type": "stream",
     "text": [
      "['Red' 'Green' 'Orange']\n",
      "After deletion\n",
      "['Red']\n"
     ]
    }
   ],
   "source": [
    "# Create a NumPy array containing three string elements\n",
    "my_array = np.array([\"Red\", \"Green\", \"Orange\"])\n",
    "\n",
    "# Print the original array\n",
    "print(my_array)\n",
    "\n",
    "# Print a message indicating that deletion will occur\n",
    "print(\"After deletion\")\n",
    "\n",
    "# Delete elements at index positions 1 and 2 ('Green' and 'Orange') from the array\n",
    "# np.delete(array, [indices]) removes elements at the specified indices\n",
    "updated_array = np.delete(my_array, [1, 2])\n",
    "\n",
    "# Print the updated array after deletion\n",
    "print(updated_array)"
   ]
  },
  {
   "cell_type": "code",
   "execution_count": 53,
   "id": "104db1d9-03cd-409b-b326-2a4ecbc928e7",
   "metadata": {},
   "outputs": [
    {
     "name": "stdout",
     "output_type": "stream",
     "text": [
      "[[10  7  8  1  7]\n",
      " [ 1 10  1  2  5]\n",
      " [ 2  8  1  9  9]\n",
      " [ 8  9  6  3  1]]\n",
      "After deletion\n",
      "[[10  7  8  1  7]\n",
      " [ 2  8  1  9  9]\n",
      " [ 8  9  6  3  1]]\n"
     ]
    }
   ],
   "source": [
    "# Generate a 2D NumPy array of random integers\n",
    "# np.random.randint(1, 11, size=(4, 5)) creates a 4x5 array\n",
    "# with random integers between 1 (inclusive) and 11 (exclusive)\n",
    "integer_random = np.random.randint(1, 11, size=(4, 5))\n",
    "\n",
    "# Print the original random array\n",
    "print(integer_random)\n",
    "\n",
    "# Print a message to indicate the next operation\n",
    "print(\"After deletion\")\n",
    "\n",
    "# Delete the second row (row index 1) from the array\n",
    "# np.delete takes the array, index to delete, and axis=0 (rows)\n",
    "updated_array = np.delete(integer_random, 1, axis=0)\n",
    "\n",
    "# Print the updated array after deletion\n",
    "print(updated_array)"
   ]
  },
  {
   "cell_type": "code",
   "execution_count": 54,
   "id": "2ea4ec23-7057-4285-8a77-7de311d662c5",
   "metadata": {},
   "outputs": [
    {
     "name": "stdout",
     "output_type": "stream",
     "text": [
      "[[ 4  5  7  5  7]\n",
      " [ 8  3  4  4  7]\n",
      " [ 3  1  5  5  7]\n",
      " [ 4  8  2  5 10]]\n",
      "After deletion\n",
      "[[ 4  7  5  7]\n",
      " [ 8  4  4  7]\n",
      " [ 3  5  5  7]\n",
      " [ 4  2  5 10]]\n"
     ]
    }
   ],
   "source": [
    "# Generate a 4x5 array of random integers between 1 (inclusive) and 11 (exclusive)\n",
    "integer_random = np.random.randint(1, 11, size=(4, 5))  \n",
    "\n",
    "# Print the original random integer array\n",
    "print(integer_random)\n",
    "\n",
    "# Print a message indicating deletion will happen\n",
    "print(\"After deletion\")\n",
    "\n",
    "# Delete the second column (index 1) from the array along axis=1 (columns)\n",
    "updated_array = np.delete(integer_random, 1, axis=1)\n",
    "\n",
    "# Print the updated array after the column deletion\n",
    "print(updated_array)"
   ]
  },
  {
   "cell_type": "code",
   "execution_count": null,
   "id": "bddaa204-dda7-479d-95d0-4b4b7292f8db",
   "metadata": {},
   "outputs": [],
   "source": []
  }
 ],
 "metadata": {
  "kernelspec": {
   "display_name": "Python 3 (ipykernel)",
   "language": "python",
   "name": "python3"
  },
  "language_info": {
   "codemirror_mode": {
    "name": "ipython",
    "version": 3
   },
   "file_extension": ".py",
   "mimetype": "text/x-python",
   "name": "python",
   "nbconvert_exporter": "python",
   "pygments_lexer": "ipython3",
   "version": "3.9.21"
  }
 },
 "nbformat": 4,
 "nbformat_minor": 5
}
