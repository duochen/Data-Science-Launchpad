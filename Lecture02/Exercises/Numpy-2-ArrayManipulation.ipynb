{
 "cells": [
  {
   "cell_type": "markdown",
   "id": "070dfff5-940b-46d7-be30-9daa426706e8",
   "metadata": {},
   "source": [
    "## 1. Sorting NumPy Arrays\n",
    "You can sort NumPy arrays of various types. Numeric arrays are sorted by\n",
    "default in ascending order of numbers. On the other hand, text arrays are\n",
    "sorted alphabetically."
   ]
  },
  {
   "cell_type": "markdown",
   "id": "bda84967-77a9-4ed2-93a8-b7a78a3d7acf",
   "metadata": {},
   "source": [
    "### 1.1. Sorting Numeric Arrays\n",
    "To sort an array in NumPy, you may call the np.sort() function and pass it to\n",
    "your NumPy array."
   ]
  },
  {
   "cell_type": "code",
   "execution_count": 3,
   "id": "4c45ce37-dcb1-46e0-9963-a6bc7a757c6c",
   "metadata": {},
   "outputs": [],
   "source": [
    "import numpy as np"
   ]
  },
  {
   "cell_type": "code",
   "execution_count": 4,
   "id": "6ef108fc-5fa2-4477-8e02-956fa926be70",
   "metadata": {},
   "outputs": [
    {
     "name": "stdout",
     "output_type": "stream",
     "text": [
      "unsorted array\n",
      "[14  7 19 15  8 11 12  5  8 13]\n",
      "\n",
      "sorted array\n",
      "[ 5  7  8  8 11 12 13 14 15 19]\n"
     ]
    }
   ],
   "source": [
    "# Print a header to indicate the next array is unsorted\n",
    "print(\"unsorted array\")\n",
    "\n",
    "# Create an array of 10 random integers between 1 and 20 (inclusive of 1, exclusive of 20)\n",
    "my_array = np.random.randint(1, 20, 10)\n",
    "\n",
    "# Print the randomly generated unsorted array\n",
    "print(my_array)\n",
    "\n",
    "# Print a header to indicate the next array will be sorted\n",
    "print(\"\\nsorted array\")\n",
    "\n",
    "# Sort the array in ascending order using NumPy's sort function\n",
    "sorted_array = np.sort(my_array)\n",
    "\n",
    "# Print the sorted array\n",
    "print(sorted_array)"
   ]
  },
  {
   "cell_type": "markdown",
   "id": "776ce63a-fb71-42e6-9b21-e96ef2113ba8",
   "metadata": {},
   "source": [
    "### 1.2. Sorting Text Arrays\n",
    "Text arrays are sorted in alphabetical order."
   ]
  },
  {
   "cell_type": "code",
   "execution_count": 5,
   "id": "428537fe-925c-43e9-956d-70933bbb270c",
   "metadata": {},
   "outputs": [
    {
     "name": "stdout",
     "output_type": "stream",
     "text": [
      "unsorted array\n",
      "['Red' 'Green' 'Blue' 'Yello']\n",
      "\n",
      "sorted array\n",
      "['Blue' 'Green' 'Red' 'Yello']\n"
     ]
    }
   ],
   "source": [
    "# Print a message indicating the start of the unsorted array\n",
    "print(\"unsorted array\")\n",
    "\n",
    "# Create a NumPy array with four string elements (colors)\n",
    "my_array = np.array([\"Red\", \"Green\", \"Blue\", \"Yello\"])\n",
    "\n",
    "# Print the original (unsorted) array\n",
    "print(my_array)\n",
    "\n",
    "# Print a newline and a message indicating the start of the sorted array\n",
    "print(\"\\nsorted array\")\n",
    "\n",
    "# Sort the array in alphabetical order using np.sort() and store the result in sorted_array\n",
    "sorted_array = np.sort(my_array)\n",
    "\n",
    "# Print the sorted array\n",
    "print(sorted_array)"
   ]
  },
  {
   "cell_type": "markdown",
   "id": "2f16fa56-dfa7-4a1c-83ea-7fcfdca82457",
   "metadata": {},
   "source": [
    "### 1.3. Sorting Boolean Arrays\n",
    "Boolean arrays are sorted in a way that all the False values appear\n",
    "first in an array."
   ]
  },
  {
   "cell_type": "code",
   "execution_count": 6,
   "id": "761d48d9-7595-4585-aeeb-d482d79b2269",
   "metadata": {},
   "outputs": [
    {
     "name": "stdout",
     "output_type": "stream",
     "text": [
      "unsorted array\n",
      "[False  True  True False False  True False  True]\n",
      "\n",
      "Sorted array\n",
      "[False False False False  True  True  True  True]\n"
     ]
    }
   ],
   "source": [
    "# Print a header to indicate we are about to display the unsorted array\n",
    "print(\"unsorted array\")\n",
    "\n",
    "# Create a NumPy array of boolean values\n",
    "my_array = np.array([False, True, True, False, False, True, False, True])\n",
    "\n",
    "# Print the original (unsorted) array\n",
    "print(my_array)\n",
    "\n",
    "# Print a header to indicate we are about to display the sorted array\n",
    "print(\"\\nSorted array\")\n",
    "\n",
    "# Sort the boolean array using NumPy's sort function\n",
    "# Note: In NumPy, False is treated as 0 and True as 1 for sorting\n",
    "sorted_array = np.sort(my_array)\n",
    "\n",
    "# Print the sorted array (all False values will appear before True values)\n",
    "print(sorted_array)"
   ]
  },
  {
   "cell_type": "markdown",
   "id": "690c84f6-47e5-4462-b208-9748fa6e4231",
   "metadata": {},
   "source": [
    "### 1.4. Sorting 2-D Arrays\n",
    "In two-dimensional\n",
    "arrays, each item itself is an array. The sort() function sorts an item in each\n",
    "individual array in a two-dimensional array."
   ]
  },
  {
   "cell_type": "code",
   "execution_count": 7,
   "id": "f21935b7-1acf-484a-8265-a254d9c38ce6",
   "metadata": {},
   "outputs": [
    {
     "name": "stdout",
     "output_type": "stream",
     "text": [
      "unsorted array\n",
      "[[18  8 19  5 18 17]\n",
      " [ 9 17 19  1  2 11]\n",
      " [18  5 17 14  4  4]\n",
      " [ 6  3  6  5  7 15]]\n",
      "\\Sorted array\n",
      "[[ 5  8 17 18 18 19]\n",
      " [ 1  2  9 11 17 19]\n",
      " [ 4  4  5 14 17 18]\n",
      " [ 3  5  6  6  7 15]]\n"
     ]
    }
   ],
   "source": [
    "# Print a label to indicate that the next output is the unsorted array\n",
    "print(\"unsorted array\")\n",
    "\n",
    "# Create a 4x6 NumPy array with random integers between 1 and 19 (inclusive)\n",
    "# np.random.randint(low, high, size) generates random integers\n",
    "my_array = np.random.randint(1, 20, size=(4, 6))\n",
    "\n",
    "# Print the unsorted array\n",
    "print(my_array)\n",
    "\n",
    "# Print a label to indicate that the next output is the sorted array\n",
    "print(\"\\Sorted array\")\n",
    "\n",
    "# Sort each row of the array in ascending order\n",
    "# np.sort sorts along the last axis by default (axis=-1), so rows are sorted individually\n",
    "sorted_array = np.sort(my_array)\n",
    "\n",
    "# Print the sorted array\n",
    "print(sorted_array)"
   ]
  },
  {
   "cell_type": "markdown",
   "id": "41a5eea2-8de0-4acc-913f-4cd5e94af56b",
   "metadata": {},
   "source": [
    "### 1.5. Sorting in Descending Order\n",
    "To do so, you can first sort an\n",
    "array in ascending order via the sort() method. Next, you can pass the sorted\n",
    "array to the flipud() method, which reverses the sorted array and returns the\n",
    "array sorted in descending order."
   ]
  },
  {
   "cell_type": "code",
   "execution_count": 8,
   "id": "584fc7d7-0364-423c-afff-91cf775904da",
   "metadata": {},
   "outputs": [
    {
     "name": "stdout",
     "output_type": "stream",
     "text": [
      "unsorted array\n",
      "[ 4 14 18  6  9 18 12  8  9 16]\n",
      "\n",
      "sorted array\n",
      "[18 18 16 14 12  9  9  8  6  4]\n"
     ]
    }
   ],
   "source": [
    "# Print a heading for the unsorted array\n",
    "print(\"unsorted array\")\n",
    "\n",
    "# Create an array of 10 random integers between 1 and 20 (inclusive)\n",
    "my_array = np.random.randint(1, 20, 10)\n",
    "\n",
    "# Print the unsorted array\n",
    "print(my_array)\n",
    "\n",
    "# Print a heading for the sorted array\n",
    "print(\"\\nsorted array\")\n",
    "\n",
    "# Sort the array in ascending order using np.sort()\n",
    "sorted_array = np.sort(my_array)\n",
    "\n",
    "# Reverse the sorted array to get descending order using np.flipud()\n",
    "reverse_sorted = np.flipud(sorted_array)\n",
    "\n",
    "# Print the reversed (descending) sorted array\n",
    "print(reverse_sorted)"
   ]
  },
  {
   "cell_type": "markdown",
   "id": "f0d652bc-d96f-4823-a502-032fcdd5fca1",
   "metadata": {},
   "source": [
    "## 2. Reshaping NumPy Arrays\n",
    "To do so, you can use the\n",
    "reshape() method and pass it the new shape for your NumPy array."
   ]
  },
  {
   "cell_type": "markdown",
   "id": "a96fe6ba-d705-4f18-b7f1-897ce2be6202",
   "metadata": {},
   "source": [
    "### 2.1. Reshaping from Lower to Higher Dimensions"
   ]
  },
  {
   "cell_type": "code",
   "execution_count": 9,
   "id": "74e0b903-869e-4586-ab49-d3a3712f0b9c",
   "metadata": {},
   "outputs": [
    {
     "name": "stdout",
     "output_type": "stream",
     "text": [
      "one-dimensional array\n",
      "[18  9  5 10 11  7 14  3 12 13]\n",
      "\n",
      "two-dimensional array\n",
      "[[18  9  5 10 11]\n",
      " [ 7 14  3 12 13]]\n"
     ]
    }
   ],
   "source": [
    "# Print a title for the one-dimensional array section\n",
    "print(\"one-dimensional array\")\n",
    "\n",
    "# Create a one-dimensional array with 10 random integers between 1 and 19 (inclusive)\n",
    "one_d_array = np.random.randint(1, 20, 10)\n",
    "\n",
    "# Print the generated one-dimensional array\n",
    "print(one_d_array)\n",
    "\n",
    "# Print a title for the two-dimensional array section\n",
    "print(\"\\ntwo-dimensional array\")\n",
    "\n",
    "# Reshape the one-dimensional array into a two-dimensional array with 2 rows and 5 columns\n",
    "two_d_array = one_d_array.reshape(2, 5)\n",
    "\n",
    "# Print the reshaped two-dimensional array\n",
    "print(two_d_array)"
   ]
  },
  {
   "cell_type": "code",
   "execution_count": 10,
   "id": "2e6f4661-073b-4f64-96f6-e5a1ae83b3ef",
   "metadata": {},
   "outputs": [
    {
     "name": "stdout",
     "output_type": "stream",
     "text": [
      "one-dimensional array\n",
      "[11  1 13  4 15  6 12 11 19 19]\n",
      "\n",
      "two-dimensional array\n",
      "[[11  1 13  4 15]\n",
      " [ 6 12 11 19 19]]\n"
     ]
    }
   ],
   "source": [
    "# Print a header to indicate we are creating a one-dimensional array\n",
    "print(\"one-dimensional array\")\n",
    "\n",
    "# Create a one-dimensional NumPy array with 10 random integers between 1 and 19 (inclusive)\n",
    "one_d_array = np.random.randint(1, 20, 10)\n",
    "\n",
    "# Print the generated one-dimensional array\n",
    "print(one_d_array)\n",
    "\n",
    "# Print a header to indicate we are creating a two-dimensional array\n",
    "print(\"\\ntwo-dimensional array\")\n",
    "\n",
    "# Reshape the one-dimensional array into a two-dimensional array with 2 rows and 5 columns\n",
    "two_d_array = np.reshape(one_d_array, (2, 5))\n",
    "\n",
    "# Print the reshaped two-dimensional array\n",
    "print(two_d_array)"
   ]
  },
  {
   "cell_type": "code",
   "execution_count": 11,
   "id": "9481ea2e-f21d-4cd0-a2bc-96c8a5faf0b5",
   "metadata": {},
   "outputs": [
    {
     "name": "stdout",
     "output_type": "stream",
     "text": [
      "two-dimensional array\n",
      "[[19 13  6 12  7  2]\n",
      " [14 16 13 18  6 18]\n",
      " [ 2 11 19  9 14 17]\n",
      " [ 6 12 12  1  2 13]]\n",
      "\n",
      "three-dimensional array\n",
      "[[[19 13]\n",
      "  [ 6 12]\n",
      "  [ 7  2]\n",
      "  [14 16]]\n",
      "\n",
      " [[13 18]\n",
      "  [ 6 18]\n",
      "  [ 2 11]\n",
      "  [19  9]]\n",
      "\n",
      " [[14 17]\n",
      "  [ 6 12]\n",
      "  [12  1]\n",
      "  [ 2 13]]]\n"
     ]
    }
   ],
   "source": [
    "# Print heading for two-dimensional array\n",
    "print(\"two-dimensional array\")\n",
    "\n",
    "# Create a 2D array (4 rows, 6 columns) with random integers between 1 and 19\n",
    "two_d_array = np.random.randint(1, 20, size=(4, 6))\n",
    "\n",
    "# Print the generated 2D array\n",
    "print(two_d_array)\n",
    "\n",
    "# Print heading for three-dimensional array\n",
    "print(\"\\nthree-dimensional array\")\n",
    "\n",
    "# Reshape the 2D array into a 3D array with shape (3, 4, 2)\n",
    "three_d_array = np.reshape(two_d_array, (3, 4, 2))\n",
    "\n",
    "# Print the generated 3D array\n",
    "print(three_d_array)"
   ]
  },
  {
   "cell_type": "code",
   "execution_count": 13,
   "id": "37c7c11c-8058-4293-a7ae-1c1aeb674d77",
   "metadata": {},
   "outputs": [
    {
     "name": "stdout",
     "output_type": "stream",
     "text": [
      "two-dimensional array\n",
      "[[ 4  5 12 11  8  3]\n",
      " [ 5  8  3  5  8 10]\n",
      " [11  8  6 14 11  4]\n",
      " [ 1 16 17 15  1 10]]\n",
      "\n",
      "three-dimensional array\n"
     ]
    },
    {
     "ename": "ValueError",
     "evalue": "cannot reshape array of size 24 into shape (1,4,2)",
     "output_type": "error",
     "traceback": [
      "\u001b[1;31m---------------------------------------------------------------------------\u001b[0m",
      "\u001b[1;31mValueError\u001b[0m                                Traceback (most recent call last)",
      "Cell \u001b[1;32mIn[13], line 15\u001b[0m\n\u001b[0;32m     11\u001b[0m \u001b[38;5;28mprint\u001b[39m(\u001b[38;5;124m\"\u001b[39m\u001b[38;5;130;01m\\n\u001b[39;00m\u001b[38;5;124mthree-dimensional array\u001b[39m\u001b[38;5;124m\"\u001b[39m)\n\u001b[0;32m     13\u001b[0m \u001b[38;5;66;03m# Reshape the 2D array into a 3D array with shape (1, 4, 6)\u001b[39;00m\n\u001b[0;32m     14\u001b[0m \u001b[38;5;66;03m# Here, 1 is the number of \"blocks\", 4 is rows, and 6 is columns\u001b[39;00m\n\u001b[1;32m---> 15\u001b[0m three_d_array \u001b[38;5;241m=\u001b[39m \u001b[43mnp\u001b[49m\u001b[38;5;241;43m.\u001b[39;49m\u001b[43mreshape\u001b[49m\u001b[43m(\u001b[49m\u001b[43mtwo_d_array\u001b[49m\u001b[43m,\u001b[49m\u001b[43m \u001b[49m\u001b[43m(\u001b[49m\u001b[38;5;241;43m1\u001b[39;49m\u001b[43m,\u001b[49m\u001b[43m \u001b[49m\u001b[38;5;241;43m4\u001b[39;49m\u001b[43m,\u001b[49m\u001b[43m \u001b[49m\u001b[38;5;241;43m2\u001b[39;49m\u001b[43m)\u001b[49m\u001b[43m)\u001b[49m\n\u001b[0;32m     17\u001b[0m \u001b[38;5;66;03m# Print the three-dimensional array\u001b[39;00m\n\u001b[0;32m     18\u001b[0m \u001b[38;5;28mprint\u001b[39m(three_d_array)\n",
      "File \u001b[1;32mc:\\apps\\Anaconda3\\lib\\site-packages\\numpy\\core\\fromnumeric.py:285\u001b[0m, in \u001b[0;36mreshape\u001b[1;34m(a, newshape, order)\u001b[0m\n\u001b[0;32m    200\u001b[0m \u001b[38;5;129m@array_function_dispatch\u001b[39m(_reshape_dispatcher)\n\u001b[0;32m    201\u001b[0m \u001b[38;5;28;01mdef\u001b[39;00m \u001b[38;5;21mreshape\u001b[39m(a, newshape, order\u001b[38;5;241m=\u001b[39m\u001b[38;5;124m'\u001b[39m\u001b[38;5;124mC\u001b[39m\u001b[38;5;124m'\u001b[39m):\n\u001b[0;32m    202\u001b[0m \u001b[38;5;250m    \u001b[39m\u001b[38;5;124;03m\"\"\"\u001b[39;00m\n\u001b[0;32m    203\u001b[0m \u001b[38;5;124;03m    Gives a new shape to an array without changing its data.\u001b[39;00m\n\u001b[0;32m    204\u001b[0m \n\u001b[1;32m   (...)\u001b[0m\n\u001b[0;32m    283\u001b[0m \u001b[38;5;124;03m           [5, 6]])\u001b[39;00m\n\u001b[0;32m    284\u001b[0m \u001b[38;5;124;03m    \"\"\"\u001b[39;00m\n\u001b[1;32m--> 285\u001b[0m     \u001b[38;5;28;01mreturn\u001b[39;00m \u001b[43m_wrapfunc\u001b[49m\u001b[43m(\u001b[49m\u001b[43ma\u001b[49m\u001b[43m,\u001b[49m\u001b[43m \u001b[49m\u001b[38;5;124;43m'\u001b[39;49m\u001b[38;5;124;43mreshape\u001b[39;49m\u001b[38;5;124;43m'\u001b[39;49m\u001b[43m,\u001b[49m\u001b[43m \u001b[49m\u001b[43mnewshape\u001b[49m\u001b[43m,\u001b[49m\u001b[43m \u001b[49m\u001b[43morder\u001b[49m\u001b[38;5;241;43m=\u001b[39;49m\u001b[43morder\u001b[49m\u001b[43m)\u001b[49m\n",
      "File \u001b[1;32mc:\\apps\\Anaconda3\\lib\\site-packages\\numpy\\core\\fromnumeric.py:59\u001b[0m, in \u001b[0;36m_wrapfunc\u001b[1;34m(obj, method, *args, **kwds)\u001b[0m\n\u001b[0;32m     56\u001b[0m     \u001b[38;5;28;01mreturn\u001b[39;00m _wrapit(obj, method, \u001b[38;5;241m*\u001b[39margs, \u001b[38;5;241m*\u001b[39m\u001b[38;5;241m*\u001b[39mkwds)\n\u001b[0;32m     58\u001b[0m \u001b[38;5;28;01mtry\u001b[39;00m:\n\u001b[1;32m---> 59\u001b[0m     \u001b[38;5;28;01mreturn\u001b[39;00m bound(\u001b[38;5;241m*\u001b[39margs, \u001b[38;5;241m*\u001b[39m\u001b[38;5;241m*\u001b[39mkwds)\n\u001b[0;32m     60\u001b[0m \u001b[38;5;28;01mexcept\u001b[39;00m \u001b[38;5;167;01mTypeError\u001b[39;00m:\n\u001b[0;32m     61\u001b[0m     \u001b[38;5;66;03m# A TypeError occurs if the object does have such a method in its\u001b[39;00m\n\u001b[0;32m     62\u001b[0m     \u001b[38;5;66;03m# class, but its signature is not identical to that of NumPy's. This\u001b[39;00m\n\u001b[1;32m   (...)\u001b[0m\n\u001b[0;32m     66\u001b[0m     \u001b[38;5;66;03m# Call _wrapit from within the except clause to ensure a potential\u001b[39;00m\n\u001b[0;32m     67\u001b[0m     \u001b[38;5;66;03m# exception has a traceback chain.\u001b[39;00m\n\u001b[0;32m     68\u001b[0m     \u001b[38;5;28;01mreturn\u001b[39;00m _wrapit(obj, method, \u001b[38;5;241m*\u001b[39margs, \u001b[38;5;241m*\u001b[39m\u001b[38;5;241m*\u001b[39mkwds)\n",
      "\u001b[1;31mValueError\u001b[0m: cannot reshape array of size 24 into shape (1,4,2)"
     ]
    }
   ],
   "source": [
    "# Print heading for two-dimensional array\n",
    "print(\"two-dimensional array\")\n",
    "\n",
    "# Create a 2D array (4 rows, 6 columns) with random integers from 1 to 19\n",
    "two_d_array = np.random.randint(1, 20, size=(4, 6))\n",
    "\n",
    "# Print the two-dimensional array\n",
    "print(two_d_array)\n",
    "\n",
    "# Print heading for three-dimensional array\n",
    "print(\"\\nthree-dimensional array\")\n",
    "\n",
    "# Reshape the 2D array into a 3D array with shape (1, 4, 6)\n",
    "# Here, 1 is the number of \"blocks\", 4 is rows, and 6 is columns\n",
    "three_d_array = np.reshape(two_d_array, (1, 4, 2))\n",
    "\n",
    "# Print the three-dimensional array\n",
    "print(three_d_array)"
   ]
  },
  {
   "cell_type": "markdown",
   "id": "f4d9a90d-4a1e-484a-bd03-d22617314552",
   "metadata": {},
   "source": [
    "### 2.2. Reshaping from Higher to Lower Dimensions"
   ]
  },
  {
   "cell_type": "code",
   "execution_count": 15,
   "id": "4098e121-0585-464d-8f24-f1892cb7133d",
   "metadata": {},
   "outputs": [
    {
     "name": "stdout",
     "output_type": "stream",
     "text": [
      "two-dimensional array\n",
      "[[17 10  3 19 18  3]\n",
      " [ 2  3  6  7 13 14]\n",
      " [ 9  6  9 17  4  1]\n",
      " [15  7 16 12 12 17]]\n",
      "\n",
      "one-dimensional array\n",
      "[17 10  3 19 18  3  2  3  6  7 13 14  9  6  9 17  4  1 15  7 16 12 12 17]\n"
     ]
    }
   ],
   "source": [
    "# Print a label for clarity\n",
    "print(\"two-dimensional array\")\n",
    "\n",
    "# Create a 2D NumPy array with random integers between 1 and 19 (inclusive)\n",
    "# The array has shape (4, 6) meaning 4 rows and 6 columns\n",
    "two_d_array = np.random.randint(1, 20, size=(4, 6))\n",
    "\n",
    "# Print the generated 2D array\n",
    "print(two_d_array)\n",
    "\n",
    "# Print a label for clarity\n",
    "print(\"\\none-dimensional array\")\n",
    "\n",
    "# Reshape the 2D array into a 1D array with 24 elements (4 * 6 = 24)\n",
    "# This flattens the array from 2D to 1D\n",
    "one_d_array = two_d_array.reshape(24)\n",
    "\n",
    "# Print the reshaped 1D array\n",
    "print(one_d_array)"
   ]
  },
  {
   "cell_type": "code",
   "execution_count": 16,
   "id": "b56fceca-2a32-491e-b111-bb08d5bfc8cf",
   "metadata": {},
   "outputs": [
    {
     "name": "stdout",
     "output_type": "stream",
     "text": [
      "two-dimensional array\n",
      "[[17  9  5 12  5 15]\n",
      " [ 3  5  2  6  9  5]\n",
      " [ 1 19  1  6  5  1]\n",
      " [ 5  4 10 14 15  4]]\n",
      "\n",
      "one-dimensional array\n",
      "[17  9  5 12  5 15  3  5  2  6  9  5  1 19  1  6  5  1  5  4 10 14 15  4]\n"
     ]
    }
   ],
   "source": [
    "# Print a header to indicate the start of working with a two-dimensional array\n",
    "print(\"two-dimensional array\")\n",
    "\n",
    "# Create a 2D NumPy array with random integers between 1 and 19 (inclusive)\n",
    "# The array shape is (4, 6), meaning 4 rows and 6 columns\n",
    "two_d_array = np.random.randint(1, 20, size=(4, 6))\n",
    "\n",
    "# Print the generated 2D array\n",
    "print(two_d_array)\n",
    "\n",
    "# Print a header to indicate the start of working with a one-dimensional array\n",
    "print(\"\\none-dimensional array\")\n",
    "\n",
    "# Reshape the 2D array into a 1D array (flatten it)\n",
    "# The -1 tells NumPy to calculate the size of the new dimension automatically\n",
    "one_d_array = two_d_array.reshape(-1)\n",
    "\n",
    "# Print the flattened 1D array\n",
    "print(one_d_array)"
   ]
  },
  {
   "cell_type": "code",
   "execution_count": 17,
   "id": "7f257f53-9a56-4538-94fc-435ab30236ca",
   "metadata": {},
   "outputs": [
    {
     "name": "stdout",
     "output_type": "stream",
     "text": [
      "two-dimensional array\n",
      "[[[ 5  3  5  7  7 16]\n",
      "  [15 13  7  1  4 13]]\n",
      "\n",
      " [[17  8 14  1  9 19]\n",
      "  [ 8  5 10  2 10  2]]\n",
      "\n",
      " [[16 17 17  9  2 16]\n",
      "  [ 7 18 15  6  4  6]]\n",
      "\n",
      " [[ 9  9 15  4 18 10]\n",
      "  [ 4  5  6  9 10  6]]]\n",
      "\n",
      "on-dimensional array\n",
      "[ 5  3  5  7  7 16 15 13  7  1  4 13 17  8 14  1  9 19  8  5 10  2 10  2\n",
      " 16 17 17  9  2 16  7 18 15  6  4  6  9  9 15  4 18 10  4  5  6  9 10  6]\n"
     ]
    }
   ],
   "source": [
    "# Print a header to indicate we're working with a two-dimensional array\n",
    "print(\"two-dimensional array\")\n",
    "\n",
    "# Create a 3D NumPy array with random integers between 1 and 19 (inclusive)\n",
    "# The shape of the array is (4, 2, 6): 4 blocks, each with 2 rows and 6 columns\n",
    "three_d_array = np.random.randint(1, 20, size=(4, 2, 6))\n",
    "\n",
    "# Print the generated 3D array\n",
    "print(three_d_array)\n",
    "\n",
    "# Print a header to indicate we're working with a one-dimensional array\n",
    "print(\"\\non-dimensional array\")\n",
    "\n",
    "# Reshape the 3D array into a 1D array (flatten it)\n",
    "# The -1 tells NumPy to calculate the correct size automatically\n",
    "one_d_array = three_d_array.reshape(-1)\n",
    "\n",
    "# Print the flattened 1D array\n",
    "print(one_d_array)"
   ]
  },
  {
   "cell_type": "markdown",
   "id": "5df9b8ef-1795-4978-8edb-240a1b5b82b4",
   "metadata": {},
   "source": [
    "## 3. Indexing and Slicing NumPy Arrays\n",
    "NumPy arrays can be indexed and sliced. Slicing an array means dividing an\n",
    "array into multiple parts.\n",
    "NumPy arrays are indexed just like normal lists. Indexes in NumPy arrays\n",
    "start from 0, which means that the first item of a NumPy array is stored at the\n",
    "0th index."
   ]
  },
  {
   "cell_type": "code",
   "execution_count": 18,
   "id": "93f17fb5-c5fb-4a43-957e-085a984bb9bb",
   "metadata": {},
   "outputs": [
    {
     "name": "stdout",
     "output_type": "stream",
     "text": [
      "[ 1  2  3  4  5  6  7  8  9 10]\n"
     ]
    }
   ],
   "source": [
    "# Create a NumPy array of integers from 1 to 10 (inclusive)\n",
    "s = np.arange(1, 11)\n",
    "\n",
    "# Print the array to the console\n",
    "print(s)"
   ]
  },
  {
   "cell_type": "code",
   "execution_count": 19,
   "id": "ff65c89b-ae79-4a5b-b48c-03cb555094f9",
   "metadata": {},
   "outputs": [
    {
     "name": "stdout",
     "output_type": "stream",
     "text": [
      "2\n"
     ]
    }
   ],
   "source": [
    "# Print the second element of the numpy array (or sequence) `s`\n",
    "print(s[1])"
   ]
  },
  {
   "cell_type": "code",
   "execution_count": 20,
   "id": "61ae6832-7539-4e47-bbda-83220386a3d4",
   "metadata": {},
   "outputs": [
    {
     "name": "stdout",
     "output_type": "stream",
     "text": [
      "[2 3 4 5 6 7 8 9]\n"
     ]
    }
   ],
   "source": [
    "# Print elements from index 1 (inclusive) to index 9 (exclusive) of the NumPy array `s`\n",
    "print(s[1:9])"
   ]
  },
  {
   "cell_type": "code",
   "execution_count": 21,
   "id": "018c1f56-8d9c-449a-8441-e2255ed1e486",
   "metadata": {},
   "outputs": [
    {
     "name": "stdout",
     "output_type": "stream",
     "text": [
      "[1 2 3 4 5]\n",
      "[ 6  7  8  9 10]\n"
     ]
    }
   ],
   "source": [
    "# Print the first 5 elements of the array or Series 's' (index 0 to 4)\n",
    "print(s[:5])\n",
    "\n",
    "# Print all elements of 's' starting from index 5 to the end\n",
    "print(s[5:])"
   ]
  },
  {
   "cell_type": "code",
   "execution_count": 22,
   "id": "b8a21649-5709-47bd-918f-fa0b3b2f5651",
   "metadata": {},
   "outputs": [
    {
     "name": "stdout",
     "output_type": "stream",
     "text": [
      "[[10 12 13]\n",
      " [45 32 16]]\n"
     ]
    }
   ],
   "source": [
    "# Define three rows as Python lists\n",
    "row1 = [10, 12, 13]  # First row with three elements\n",
    "row2 = [45, 32, 16]  # Second row with three elements\n",
    "row3 = [45, 32, 16]  # Third row (same as row2)\n",
    "\n",
    "# Create a 2D NumPy array (matrix) from the three rows\n",
    "nums_2d = np.array([row1, row2, row3])\n",
    "\n",
    "# Print a slice of the 2D array:\n",
    "# nums_2d[:2, :] selects:\n",
    "#   - the first two rows (index 0 and 1) [:2]\n",
    "#   - all columns [:]\n",
    "print(nums_2d[:2, :])  # Output: first two rows of the array"
   ]
  },
  {
   "cell_type": "code",
   "execution_count": 23,
   "id": "e50bfccb-10d1-493d-9d54-16eb45cf435e",
   "metadata": {},
   "outputs": [
    {
     "name": "stdout",
     "output_type": "stream",
     "text": [
      "[[10 12]\n",
      " [45 32]\n",
      " [45 32]]\n"
     ]
    }
   ],
   "source": [
    "# Define three rows as Python lists\n",
    "row1 = [10, 12, 13]   # First row of numbers\n",
    "row2 = [45, 32, 16]   # Second row of numbers\n",
    "row3 = [45, 32, 16]   # Third row of numbers (same as row2 here)\n",
    "\n",
    "# Create a 2D NumPy array from the three rows\n",
    "nums_2d = np.array([row1, row2, row3])  # Shape will be (3, 3)\n",
    "\n",
    "# Print all rows but only the first two columns\n",
    "# nums_2d[:, :2] means:\n",
    "#   ':'   => select all rows\n",
    "#   ':2'  => select columns from index 0 up to (but not including) index 2\n",
    "print(nums_2d[:, :2])  # Output will be a (3, 2) array"
   ]
  },
  {
   "cell_type": "code",
   "execution_count": 24,
   "id": "9c911814-03e4-4f45-96ff-a6bf8472a4d4",
   "metadata": {},
   "outputs": [
    {
     "name": "stdout",
     "output_type": "stream",
     "text": [
      "[[32 16]\n",
      " [32 16]]\n"
     ]
    }
   ],
   "source": [
    "# Define three rows as Python lists\n",
    "row1 = [10, 12, 13]  # First row with 3 elements\n",
    "row2 = [45, 32, 16]  # Second row with 3 elements\n",
    "row3 = [45, 32, 16]  # Third row (same as row2)\n",
    "\n",
    "# Create a 2D NumPy array from the three rows\n",
    "nums_2d = np.array([row1, row2, row3])\n",
    "\n",
    "# Print a sliced portion of the 2D array\n",
    "# Slice rows starting from index 1 (2nd row) to the end\n",
    "# and columns starting from index 1 (2nd column) to the end\n",
    "print(nums_2d[1:, 1:])"
   ]
  },
  {
   "cell_type": "markdown",
   "id": "03e81056-c804-46a2-be16-d9d1c3c4472b",
   "metadata": {},
   "source": [
    "## 4. Broadcasting NumPy Arrays\n",
    "Broadcasting allows you to perform various operations between NumPy\n",
    "arrays of different shapes."
   ]
  },
  {
   "cell_type": "code",
   "execution_count": 25,
   "id": "6776abc2-4fd2-4dff-a7ce-e9ba6c3141ae",
   "metadata": {},
   "outputs": [
    {
     "name": "stdout",
     "output_type": "stream",
     "text": [
      "[24 35 41]\n"
     ]
    }
   ],
   "source": [
    "# Create a NumPy array named 'array1' with three integer elements\n",
    "array1 = np.array([14, 25, 31])\n",
    "\n",
    "# Create a NumPy array named 'array2' with a single integer element\n",
    "array2 = np.array([10])\n",
    "\n",
    "# Add 'array2' to 'array1' using NumPy's broadcasting feature\n",
    "# Broadcasting automatically expands 'array2' to match the shape of 'array1'\n",
    "# So 10 is added to each element of 'array1'\n",
    "result = array1 + array2\n",
    "\n",
    "# Print the resulting array\n",
    "print(result)  # Output: [24 35 41]"
   ]
  },
  {
   "cell_type": "code",
   "execution_count": 26,
   "id": "ae0ab5d5-3e92-4c88-955f-28a9c5f26cf6",
   "metadata": {},
   "outputs": [
    {
     "name": "stdout",
     "output_type": "stream",
     "text": [
      "[[10 10  1  1]\n",
      " [ 6  6 10 15]\n",
      " [ 3 10 19  9]]\n",
      "after broadcasting\n",
      "[[20 20 11 11]\n",
      " [16 16 20 25]\n",
      " [13 20 29 19]]\n"
     ]
    }
   ],
   "source": [
    "# Create a 3x4 array with random integers from 1 to 19 (inclusive)\n",
    "array1 = np.random.randint(1, 20, size=(3, 4))\n",
    "print(array1)  # Print the generated 3x4 array\n",
    "\n",
    "# Create a 1-element array containing the value 10\n",
    "array2 = np.array([10])\n",
    "print(\"after broadcasting\")  # Print a message indicating the next step\n",
    "\n",
    "# Add array1 and array2 together using broadcasting\n",
    "# Here, numpy automatically \"broadcasts\" array2 (shape (1,)) to match array1's shape (3, 4)\n",
    "result = array1 + array2\n",
    "\n",
    "# Print the resulting array after broadcasting addition\n",
    "print(result)"
   ]
  },
  {
   "cell_type": "code",
   "execution_count": 27,
   "id": "af8c11c2-f9ad-445f-82c9-fd3fc73af53d",
   "metadata": {},
   "outputs": [
    {
     "name": "stdout",
     "output_type": "stream",
     "text": [
      "[[16  4  4  1]\n",
      " [ 4 13  1  9]\n",
      " [12 15  3 17]]\n",
      "after broadcasting\n",
      "[[21 14 24 26]\n",
      " [ 9 23 21 34]\n",
      " [17 25 23 42]]\n"
     ]
    }
   ],
   "source": [
    "# Create a 3x4 array of random integers between 1 and 20 (inclusive of 1, exclusive of 20)\n",
    "# Shape of array1: 3 rows and 4 columns\n",
    "array1 = np.random.randint(1, 20, size=(3, 4))\n",
    "print(array1)  # Print the randomly generated 3x4 array\n",
    "\n",
    "# Create a 1D NumPy array with 4 elements\n",
    "# Shape of array2: (4,)\n",
    "array2 = np.array([5, 10, 20, 25])\n",
    "\n",
    "# Print message to indicate broadcasting is about to happen\n",
    "print(\"after broadcasting\")\n",
    "\n",
    "# Add array2 to each row of array1 using NumPy broadcasting\n",
    "# Broadcasting automatically expands array2 to match array1's shape (3x4)\n",
    "result = array1 + array2\n",
    "\n",
    "# Print the result of the element-wise addition\n",
    "print(result)"
   ]
  },
  {
   "cell_type": "code",
   "execution_count": 28,
   "id": "7420fc04-aa35-4ad8-9d1d-23fe2b737d89",
   "metadata": {},
   "outputs": [
    {
     "name": "stdout",
     "output_type": "stream",
     "text": [
      "[[15 10  8 15]\n",
      " [12  8 18  8]\n",
      " [ 2  7 16  8]]\n",
      "after broadcasting\n",
      "[[20 15 13 20]\n",
      " [22 18 28 18]\n",
      " [22 27 36 28]]\n"
     ]
    }
   ],
   "source": [
    "# Create a 3x4 array with random integers between 1 (inclusive) and 20 (exclusive)\n",
    "array1 = np.random.randint(1, 20, size=(3, 4))\n",
    "print(array1)  # Print the generated 3x4 array\n",
    "\n",
    "# Create a 3x1 array manually\n",
    "array2 = np.array([[5],    # First row element is 5\n",
    "                   [10],   # Second row element is 10\n",
    "                   [20]])  # Third row element is 20\n",
    "print(\"after broadcasting\")\n",
    "\n",
    "# Add array1 and array2 together using broadcasting\n",
    "# Broadcasting automatically expands array2's shape (3x1) to match array1's shape (3x4)\n",
    "# Each row of array1 is added with the corresponding scalar from array2\n",
    "result = array1 + array2\n",
    "print(result)  # Print the resulting array after broadcasting and addition"
   ]
  },
  {
   "cell_type": "markdown",
   "id": "fa4a29c5-d230-4949-b321-5877aa125456",
   "metadata": {},
   "source": [
    "## 5. Copying NumPy Arrays\n",
    "There are two main ways to copy an array in NumPy. You can either copy\n",
    "the contents of the original array, or you can copy the reference to the\n",
    "original array into another array.\n",
    "To copy the contents of the original array into a new array, you can call the\n",
    "copy() function on the original array. Now, if you modify the contents of the\n",
    "new array, the contents of the original array are not modified."
   ]
  },
  {
   "cell_type": "code",
   "execution_count": 29,
   "id": "560dd0b6-b40e-47a3-83ea-de87554fd4e5",
   "metadata": {},
   "outputs": [
    {
     "name": "stdout",
     "output_type": "stream",
     "text": [
      "[10 12 14 16 18 20]\n",
      "[10 20 14 16 18 20]\n"
     ]
    }
   ],
   "source": [
    "# Create a NumPy array with values [10, 12, 14, 16, 18, 20]\n",
    "array1 = np.array([10, 12, 14, 16, 18, 20])\n",
    "\n",
    "# Create a copy of array1 and assign it to array2\n",
    "# This ensures array2 is an independent copy and changes to it won't affect array1\n",
    "array2 = array1.copy()\n",
    "\n",
    "# Modify the second element (index 1) of array2 to be 20\n",
    "array2[1] = 20\n",
    "\n",
    "# Print the original array1 to show it remains unchanged\n",
    "print(array1)  # Output: [10 12 14 16 18 20]\n",
    "\n",
    "# Print array2 to show the change at index 1\n",
    "print(array2)  # Output: [10 20 14 16 18 20]"
   ]
  },
  {
   "cell_type": "code",
   "execution_count": 30,
   "id": "51e75a97-f3fa-4477-8fc6-875bf4382a2d",
   "metadata": {},
   "outputs": [
    {
     "name": "stdout",
     "output_type": "stream",
     "text": [
      "[10 20 14 16 18 20]\n",
      "[10 20 14 16 18 20]\n"
     ]
    }
   ],
   "source": [
    "# Create a NumPy array called array1 with the given elements\n",
    "array1 = np.array([10, 12, 14, 16, 18, 20])\n",
    "\n",
    "# Create a view (shallow copy) of array1 and assign it to array2\n",
    "# array2 shares the same data buffer as array1\n",
    "array2 = array1.view()\n",
    "\n",
    "# Modify the second element (index 1) of array2\n",
    "# This change also affects array1 because array2 is a view of array1\n",
    "array2[1] = 20\n",
    "\n",
    "# Print array1 to show that it reflects the change made via array2\n",
    "print(array1)  # Output: [10 20 14 16 18 20]\n",
    "\n",
    "# Print array2 to show its current contents\n",
    "print(array2)  # Output: [10 20 14 16 18 20]"
   ]
  },
  {
   "cell_type": "markdown",
   "id": "a2c7270c-ee05-43f0-aeeb-9e93bece8aa2",
   "metadata": {},
   "source": [
    "## 6. NumPy I/O Operations\n",
    "You can save and load NumPy arrays to and from your local drive."
   ]
  },
  {
   "cell_type": "markdown",
   "id": "22d7aec7-b3c3-424e-877e-0cd327eda668",
   "metadata": {},
   "source": [
    "### 6.1. Saving a NumPy Array\n",
    "To save a NumPy array, you need to call the save() method from the NumPy\n",
    "module and pass it the file name for your NumPy as the first argument, while\n",
    "the array object itself as the second argument."
   ]
  },
  {
   "cell_type": "code",
   "execution_count": 31,
   "id": "a8cb4a0d-26be-479c-9795-c0111f652797",
   "metadata": {},
   "outputs": [],
   "source": [
    "# Create a NumPy array with the given list of integers\n",
    "array1 = np.array([10, 12, 14, 16, 18, 20])\n",
    "\n",
    "# Save the NumPy array to a binary file named 'my_array.npy' in the specified directory\n",
    "# The file will be created at C:\\temp\\ with the name 'my_array.npy'\n",
    "np.save(\"c:\\\\temp\\\\my_array\", array1)"
   ]
  },
  {
   "cell_type": "code",
   "execution_count": 32,
   "id": "8dabef82-b7f0-4fb8-9db0-796438b99cdb",
   "metadata": {},
   "outputs": [],
   "source": [
    "# Create a NumPy array with the specified elements\n",
    "array1 = np.array([10, 12, 14, 16, 18, 20])\n",
    "\n",
    "# Save the NumPy array 'array1' to a text file at the specified path\n",
    "# Each element of the array will be written on a separate line in the file\n",
    "np.savetxt(\"c:\\\\temp\\\\my_array.txt\", array1)"
   ]
  },
  {
   "cell_type": "markdown",
   "id": "867bcdb4-67f2-46ea-8630-a2df761c7485",
   "metadata": {},
   "source": [
    "### 6.2. Loading a NumPy Array\n",
    "To load a NumPy array in the “NPY” format, you can use the load() method"
   ]
  },
  {
   "cell_type": "code",
   "execution_count": 33,
   "id": "30e64883-fcee-4bd8-94a0-db077c4d94f6",
   "metadata": {},
   "outputs": [
    {
     "name": "stdout",
     "output_type": "stream",
     "text": [
      "[10 12 14 16 18 20]\n"
     ]
    }
   ],
   "source": [
    "# Load a NumPy array from a .npy file located at \"C:\\temp\\my_array.npy\"\n",
    "# The np.load() function reads the binary file and reconstructs the array\n",
    "loaded_array = np.load(\"c:\\\\temp\\\\my_array.npy\")  # Note: use double backslashes in file paths on Windows\n",
    "\n",
    "# Print the contents of the loaded NumPy array to the console\n",
    "print(loaded_array)"
   ]
  },
  {
   "cell_type": "code",
   "execution_count": 34,
   "id": "a658454a-aad3-408c-8653-59435aaa4f04",
   "metadata": {},
   "outputs": [
    {
     "name": "stdout",
     "output_type": "stream",
     "text": [
      "[10. 12. 14. 16. 18. 20.]\n"
     ]
    }
   ],
   "source": [
    "# Load data from a text file located at \"c:\\temp\\my_array.txt\"\n",
    "# np.loadtxt reads the text file and returns its contents as a NumPy array\n",
    "# Make sure the file exists and contains numeric data, otherwise it will raise an error\n",
    "loaded_array = np.loadtxt(\"c:\\\\temp\\\\my_array.txt\")  # Use double backslashes or raw string for Windows path\n",
    "\n",
    "# Print the contents of the loaded NumPy array to the console\n",
    "print(loaded_array)"
   ]
  },
  {
   "cell_type": "code",
   "execution_count": null,
   "id": "4c43af5c-8f70-4591-b027-52b3713b56fb",
   "metadata": {},
   "outputs": [],
   "source": []
  }
 ],
 "metadata": {
  "kernelspec": {
   "display_name": "Python 3 (ipykernel)",
   "language": "python",
   "name": "python3"
  },
  "language_info": {
   "codemirror_mode": {
    "name": "ipython",
    "version": 3
   },
   "file_extension": ".py",
   "mimetype": "text/x-python",
   "name": "python",
   "nbconvert_exporter": "python",
   "pygments_lexer": "ipython3",
   "version": "3.9.21"
  }
 },
 "nbformat": 4,
 "nbformat_minor": 5
}
