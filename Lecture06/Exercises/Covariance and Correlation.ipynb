{
 "cells": [
  {
   "cell_type": "markdown",
   "id": "cdd4c177-86c8-4a76-a480-d3f7591922bd",
   "metadata": {},
   "source": [
    "# Covariance and Correlation in Python"
   ]
  },
  {
   "cell_type": "markdown",
   "id": "b56241b5-7267-441a-b825-659105ce66ea",
   "metadata": {},
   "source": [
    "## Using NumPy"
   ]
  },
  {
   "cell_type": "markdown",
   "id": "18d9dfdd-fd11-4530-8259-333f758712d5",
   "metadata": {},
   "source": [
    "#### Covaraince\n",
    "#### The np.cov() function computes the covariance matrix."
   ]
  },
  {
   "cell_type": "code",
   "execution_count": 1,
   "id": "f91c963f-bbe3-4574-9b94-50bf93464646",
   "metadata": {},
   "outputs": [],
   "source": [
    "import numpy as np"
   ]
  },
  {
   "cell_type": "code",
   "execution_count": 2,
   "id": "46ee2de2-f0cb-4ed7-8d6e-af91ae93abf1",
   "metadata": {},
   "outputs": [
    {
     "name": "stdout",
     "output_type": "stream",
     "text": [
      "Covariance Matrix:\n",
      " [[ 2.5  5. ]\n",
      " [ 5.  10. ]]\n",
      "Covariance: 5.0\n"
     ]
    }
   ],
   "source": [
    "x = np.array([1, 2, 3, 4, 5])\n",
    "y = np.array([2, 4, 6, 8, 10])\n",
    "\n",
    "cov_matrix = np.cov(x, y)\n",
    "print(\"Covariance Matrix:\\n\", cov_matrix)\n",
    "\n",
    "# Covariance value\n",
    "print(\"Covariance:\", cov_matrix[0, 1]) # Output: 5.0"
   ]
  },
  {
   "cell_type": "markdown",
   "id": "0a32a0f3-164e-435c-8d5e-a7125dc9c0ad",
   "metadata": {},
   "source": [
    "#### Correlation\n",
    "#### The np.corrcoef() function computes the correlation matrix."
   ]
  },
  {
   "cell_type": "code",
   "execution_count": 3,
   "id": "d1226213-a8a8-4547-8e1b-d6b62d82a20b",
   "metadata": {},
   "outputs": [
    {
     "name": "stdout",
     "output_type": "stream",
     "text": [
      "Correlation Matrix:\n",
      " [[1. 1.]\n",
      " [1. 1.]]\n",
      "Correlation: 0.9999999999999999\n"
     ]
    }
   ],
   "source": [
    "corr_matrix = np.corrcoef(x, y)\n",
    "print(\"Correlation Matrix:\\n\", corr_matrix)\n",
    "\n",
    "# Correlation value\n",
    "print(\"Correlation:\", corr_matrix[0, 1]) # Output: 1.0"
   ]
  },
  {
   "cell_type": "markdown",
   "id": "95d8fe71-2905-4fc7-b6ac-45d6c59d9204",
   "metadata": {},
   "source": [
    "## Using Pandas"
   ]
  },
  {
   "cell_type": "markdown",
   "id": "c61f221b-4947-427e-951d-dde6419c8544",
   "metadata": {},
   "source": [
    "#### Covariance\n",
    "#### The cov() method computes the covariance matrix for a DataFrame."
   ]
  },
  {
   "cell_type": "code",
   "execution_count": 4,
   "id": "363aa30a-dc8d-4dc0-946c-172da2278036",
   "metadata": {},
   "outputs": [
    {
     "name": "stdout",
     "output_type": "stream",
     "text": [
      "Covariance Matrix:\n",
      "      X     Y\n",
      "X  2.5   5.0\n",
      "Y  5.0  10.0\n",
      "Covariance: 5.0\n"
     ]
    }
   ],
   "source": [
    "import pandas as pd\n",
    "\n",
    "data = {'X': [1, 2, 3, 4, 5], 'Y': [2, 4, 6, 8, 10]}\n",
    "df = pd.DataFrame(data)\n",
    "\n",
    "cov_matrix = df.cov()\n",
    "print(\"Covariance Matrix:\\n\", cov_matrix)\n",
    "\n",
    "# Covariance value\n",
    "print(\"Covariance:\", cov_matrix.loc['X', 'Y']) # Output: 5.0"
   ]
  },
  {
   "cell_type": "markdown",
   "id": "a6ec9af1-1a00-478a-b9a0-4289240e05c8",
   "metadata": {},
   "source": [
    "#### Correlation\n",
    "#### The corr() method computes the correlation matrix."
   ]
  },
  {
   "cell_type": "code",
   "execution_count": 5,
   "id": "7f00119a-4f45-4712-8f3b-41506505bb46",
   "metadata": {},
   "outputs": [
    {
     "name": "stdout",
     "output_type": "stream",
     "text": [
      "Correlation Matrix:\n",
      "      X    Y\n",
      "X  1.0  1.0\n",
      "Y  1.0  1.0\n",
      "Correlation: 1.0\n"
     ]
    }
   ],
   "source": [
    "corr_matrix = df.corr()\n",
    "print(\"Correlation Matrix:\\n\", corr_matrix)\n",
    "\n",
    "# Correlation value\n",
    "print(\"Correlation:\", corr_matrix.loc['X', 'Y']) # Output: 1.0"
   ]
  },
  {
   "cell_type": "markdown",
   "id": "dd7b7bae-3e22-4b7a-9520-f6af9f5e6eb7",
   "metadata": {},
   "source": [
    "## Using SciPy"
   ]
  },
  {
   "cell_type": "markdown",
   "id": "d892c4b7-faf3-416d-9bf4-0ebf8dd43edd",
   "metadata": {},
   "source": [
    "#### Pearson Correlation\n",
    "#### The pearsonr() function computes the Pearson correlation coefficient."
   ]
  },
  {
   "cell_type": "code",
   "execution_count": 6,
   "id": "817f9847-2032-4326-9935-404917f63a1e",
   "metadata": {},
   "outputs": [
    {
     "name": "stdout",
     "output_type": "stream",
     "text": [
      "Pearson Correlation: 1.0\n"
     ]
    }
   ],
   "source": [
    "from scipy.stats import pearsonr\n",
    "\n",
    "corr, _ = pearsonr(x, y)\n",
    "print(\"Pearson Correlation:\", corr) # Output: 1.0"
   ]
  },
  {
   "cell_type": "markdown",
   "id": "ba6f1e8e-a6f8-4a61-8e73-48353ddf3914",
   "metadata": {},
   "source": [
    "#### Spearman Correlation\n",
    "#### The spearmanr() function computes the Spearman rank correlation coefficient."
   ]
  },
  {
   "cell_type": "code",
   "execution_count": 7,
   "id": "6b778ede-ece8-48a8-b09c-6af15f6fb3e2",
   "metadata": {},
   "outputs": [
    {
     "name": "stdout",
     "output_type": "stream",
     "text": [
      "Spearman Correlation: 0.9999999999999999\n"
     ]
    }
   ],
   "source": [
    "from scipy.stats import spearmanr\n",
    "\n",
    "corr, _ = spearmanr(x, y)\n",
    "print(\"Spearman Correlation:\", corr) # Output: 1.0"
   ]
  },
  {
   "cell_type": "markdown",
   "id": "862a9289-3aaa-447f-997b-81f49a06fb36",
   "metadata": {},
   "source": [
    "#### Kendall Tau Correlation\n",
    "#### The kendalltau() function computes Kendall’s Tau correlation coefficient."
   ]
  },
  {
   "cell_type": "code",
   "execution_count": 8,
   "id": "8c04c3d8-6e41-45e9-affb-3ca777daae8c",
   "metadata": {},
   "outputs": [
    {
     "name": "stdout",
     "output_type": "stream",
     "text": [
      "Kendall Tau Correlation: 0.9999999999999999\n"
     ]
    }
   ],
   "source": [
    "from scipy.stats import kendalltau\n",
    "\n",
    "corr, _ = kendalltau(x, y)\n",
    "print(\"Kendall Tau Correlation:\", corr) # Output: 1.0"
   ]
  },
  {
   "cell_type": "markdown",
   "id": "e7347a6f-ad4c-4fec-a427-9a23b9339980",
   "metadata": {},
   "source": [
    "# Visualization of Covariance and Correlation"
   ]
  },
  {
   "cell_type": "markdown",
   "id": "92934cbb-0da0-4d3a-a557-21098d7a50c9",
   "metadata": {},
   "source": [
    "### Scatter Plot\n",
    "### Scatter plots visualize relationships between two variables."
   ]
  },
  {
   "cell_type": "code",
   "execution_count": 10,
   "id": "edd2811a-6291-4d84-a939-72f880555e98",
   "metadata": {},
   "outputs": [
    {
     "data": {
      "image/png": "[encoded data removed]",
      "text/plain": [
       "<Figure size 640x480 with 1 Axes>"
      ]
     },
     "metadata": {},
     "output_type": "display_data"
    }
   ],
   "source": [
    "import matplotlib.pyplot as plt\n",
    "\n",
    "plt.scatter(x, y)\n",
    "plt.title(\"Scatter Plot\")\n",
    "plt.xlabel(\"X\")\n",
    "plt.ylabel(\"Y\")\n",
    "plt.show()"
   ]
  },
  {
   "cell_type": "markdown",
   "id": "ddd5ecbb-acc0-4ff4-b6cb-58155a835329",
   "metadata": {},
   "source": [
    "### Heatmap\n",
    "### A heatmap can visualize covariance or correlation matrices."
   ]
  },
  {
   "cell_type": "code",
   "execution_count": 11,
   "id": "ef11ba36-296a-4702-bfab-30b9147ce232",
   "metadata": {},
   "outputs": [
    {
     "data": {
      "image/png": "[encoded data removed]",
      "text/plain": [
       "<Figure size 640x480 with 2 Axes>"
      ]
     },
     "metadata": {},
     "output_type": "display_data"
    }
   ],
   "source": [
    "import seaborn as sns\n",
    "\n",
    "# Correlation matrix heatmap\n",
    "sns.heatmap(df.corr(), annot=True, cmap='coolwarm')\n",
    "plt.title(\"Correlation Heatmap\")\n",
    "plt.show()"
   ]
  },
  {
   "cell_type": "code",
   "execution_count": null,
   "id": "167adf1b-6510-4d13-9ba9-1549d98f1436",
   "metadata": {},
   "outputs": [],
   "source": [
    "#### The output is given above and shows a correlation of 1 between the X and Y variables which indicates a very high correlation. \n",
    "#### In this case, the Y variable is related to the X variable via by the relation y = x * 2"
   ]
  }
 ],
 "metadata": {
  "kernelspec": {
   "display_name": "Python 3 (ipykernel)",
   "language": "python",
   "name": "python3"
  },
  "language_info": {
   "codemirror_mode": {
    "name": "ipython",
    "version": 3
   },
   "file_extension": ".py",
   "mimetype": "text/x-python",
   "name": "python",
   "nbconvert_exporter": "python",
   "pygments_lexer": "ipython3",
   "version": "3.9.21"
  }
 },
 "nbformat": 4,
 "nbformat_minor": 5
}
