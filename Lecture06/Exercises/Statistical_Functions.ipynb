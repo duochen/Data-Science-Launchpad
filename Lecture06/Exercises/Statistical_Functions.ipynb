{
 "cells": [
  {
   "cell_type": "markdown",
   "id": "2a75dd5d-fa5d-4fdb-9b30-2256423e70f3",
   "metadata": {},
   "source": [
    "# Descriptive Statistics\n",
    "## These functions summarize the central tendency, dispersion, and shape of a dataset."
   ]
  },
  {
   "cell_type": "markdown",
   "id": "3164821f-be2e-4207-83fe-e41135184797",
   "metadata": {},
   "source": [
    "### Mean\n",
    "#### Calculates the average of the array elements."
   ]
  },
  {
   "cell_type": "code",
   "execution_count": 1,
   "id": "aa3499f7-a1eb-416c-bb4a-49f244f6c4a3",
   "metadata": {},
   "outputs": [],
   "source": [
    "import numpy as np"
   ]
  },
  {
   "cell_type": "code",
   "execution_count": 3,
   "id": "f4a50d87-c04f-4e15-a197-a3b826ae52e7",
   "metadata": {},
   "outputs": [
    {
     "name": "stdout",
     "output_type": "stream",
     "text": [
      "Mean: 30.0\n"
     ]
    }
   ],
   "source": [
    "data = np.array([10, 20, 30, 40, 50])\n",
    "print(\"Mean:\", np.mean(data))"
   ]
  },
  {
   "cell_type": "markdown",
   "id": "47d0b0e1-05f5-4a89-9756-2332c303a377",
   "metadata": {},
   "source": [
    "### Median\n",
    "#### Finds the middle value in a sorted array."
   ]
  },
  {
   "cell_type": "code",
   "execution_count": 13,
   "id": "7b3b854d-db32-467e-9270-494cae88dd0b",
   "metadata": {},
   "outputs": [
    {
     "name": "stdout",
     "output_type": "stream",
     "text": [
      "Median: 10.0\n"
     ]
    }
   ],
   "source": [
    "data = [10, 15, 7, 9, 21]\n",
    "\n",
    "median_value = np.median(data) # Calculate the median\n",
    "\n",
    "print(\"Median:\", median_value)"
   ]
  },
  {
   "cell_type": "markdown",
   "id": "0ad2e284-5ad7-453c-a525-9398af4c6d03",
   "metadata": {},
   "source": [
    "### Percentile\n",
    "#### A measure that tells what percentage of values fall below a certain value in a dataset.\n",
    "\n",
    "> The **P-th percentile** is the value below which **P percent** of the data falls.\n",
    "\n",
    "For example:\n",
    "\n",
    "* The **25th percentile (Q1)** is the value below which 25% of the data lies.\n",
    "* The **50th percentile (Q2)** is the **median** — 50% of the data is below this point.\n",
    "* The **75th percentile (Q3)** is the value below which 75% of the data lies."
   ]
  },
  {
   "cell_type": "code",
   "execution_count": 2,
   "id": "a879bafc-fe17-4466-9baa-2e6f9929037c",
   "metadata": {},
   "outputs": [
    {
     "name": "stdout",
     "output_type": "stream",
     "text": [
      "25th Percentile (Q1): 66.25\n",
      "50th Percentile (Median): 77.5\n",
      "75th Percentile (Q3): 88.75\n",
      "90th Percentile: 95.5\n"
     ]
    }
   ],
   "source": [
    "# Sample dataset: exam scores\n",
    "scores = [55, 60, 65, 70, 75, 80, 85, 90, 95, 100]\n",
    "\n",
    "# Calculate specific percentiles\n",
    "p25 = np.percentile(scores, 25)   # 25th percentile (Q1)\n",
    "p50 = np.percentile(scores, 50)   # 50th percentile (Median / Q2)\n",
    "p75 = np.percentile(scores, 75)   # 75th percentile (Q3)\n",
    "p90 = np.percentile(scores, 90)   # 90th percentile\n",
    "\n",
    "# Print the results\n",
    "print(\"25th Percentile (Q1):\", p25)\n",
    "print(\"50th Percentile (Median):\", p50)\n",
    "print(\"75th Percentile (Q3):\", p75)\n",
    "print(\"90th Percentile:\", p90)"
   ]
  },
  {
   "cell_type": "markdown",
   "id": "957f16f0-c38a-40a2-8b48-d355d457b8e0",
   "metadata": {},
   "source": [
    "### Mode\n",
    "#### Find the most frequent value in a dataset"
   ]
  },
  {
   "cell_type": "code",
   "execution_count": 14,
   "id": "13b50d0a-545d-40c6-bb75-65959bae8cc5",
   "metadata": {},
   "outputs": [
    {
     "name": "stdout",
     "output_type": "stream",
     "text": [
      "Mode: 3\n",
      "Count: 3\n"
     ]
    }
   ],
   "source": [
    "from scipy import stats\n",
    "\n",
    "data = [1, 2, 2, 3, 3, 3, 4]\n",
    "result = stats.mode(data, keepdims=False) # \n",
    "\n",
    "print(\"Mode:\", result.mode)\n",
    "print(\"Count:\", result.count)"
   ]
  },
  {
   "cell_type": "markdown",
   "id": "95d3fad6-3c9b-40af-8ef1-7a55d997b046",
   "metadata": {},
   "source": [
    "### Standard Deviation\n",
    "#### Measures the spread of the dataset"
   ]
  },
  {
   "cell_type": "code",
   "execution_count": 19,
   "id": "50dcdac4-9e1a-4585-bb36-bb394de812a5",
   "metadata": {},
   "outputs": [
    {
     "name": "stdout",
     "output_type": "stream",
     "text": [
      "Standard Deviation: 4.898979485566356\n"
     ]
    }
   ],
   "source": [
    "data = [10, 12, 23, 23, 16, 23, 21, 16]\n",
    "\n",
    "std_dev = np.std(data)  # Calculate the standard deviation\n",
    "\n",
    "print(\"Standard Deviation:\", std_dev)"
   ]
  },
  {
   "cell_type": "markdown",
   "id": "2d21f17e-d88e-426c-9cc8-595ac5731903",
   "metadata": {},
   "source": [
    "#### `std_dev = np.std(data)`\n",
    "\n",
    "* This line calculates the **standard deviation** of the `data` using NumPy’s `std()` function.\n",
    "* By default, `np.std()` computes the **population standard deviation**, which uses:\n",
    "\n",
    "$$\n",
    "\\sigma = \\sqrt{ \\frac{1}{N} \\sum_{i=1}^{N} (x_i - \\mu)^2 }\n",
    "$$\n",
    "\n",
    "Where:\n",
    "\n",
    "* $N$ is the total number of values (8 in this case),\n",
    "* $\\mu$ is the **mean** of the dataset,\n",
    "* $x_i$ are the individual values.\n",
    "\n",
    "### 🧮 Example Calculation:\n",
    "\n",
    "#### 1. Compute the Mean:\n",
    "\n",
    "$$\n",
    "\\mu = \\frac{10 + 12 + 23 + 23 + 16 + 23 + 21 + 16}{8} = \\frac{144}{8} = 18\n",
    "$$\n",
    "\n",
    "#### 2. Compute Squared Differences from the Mean:\n",
    "\n",
    "$$\n",
    "(10 - 18)^2 = 64\\\\\n",
    "(12 - 18)^2 = 36\\\\\n",
    "(23 - 18)^2 = 25\\\\\n",
    "(23 - 18)^2 = 25\\\\\n",
    "(16 - 18)^2 = 4\\\\\n",
    "(23 - 18)^2 = 25\\\\\n",
    "(21 - 18)^2 = 9\\\\\n",
    "(16 - 18)^2 = 4\n",
    "$$\n",
    "\n",
    "#### 3. Sum of Squared Differences:\n",
    "\n",
    "$$\n",
    "64 + 36 + 25 + 25 + 4 + 25 + 9 + 4 = 192\n",
    "$$\n",
    "\n",
    "#### 4. Compute Variance (Population):\n",
    "\n",
    "$$\n",
    "\\sigma^2 = \\frac{192}{8} = 24\n",
    "$$\n",
    "\n",
    "#### 5. Standard Deviation:\n",
    "\n",
    "$$\n",
    "\\sigma = \\sqrt{24} \\approx 4.898979\n",
    "$$"
   ]
  },
  {
   "cell_type": "markdown",
   "id": "6f35ff9d-f12a-4c31-93c0-18fb81e446aa",
   "metadata": {},
   "source": [
    "### Variance\n",
    "#### The square of the standard deviation"
   ]
  },
  {
   "cell_type": "code",
   "execution_count": 17,
   "id": "558cd974-6c7b-448b-bc14-611bd6cb4df2",
   "metadata": {},
   "outputs": [
    {
     "name": "stdout",
     "output_type": "stream",
     "text": [
      "Variance: 4.0\n"
     ]
    }
   ],
   "source": [
    "data = [2, 4, 4, 4, 5, 5, 7, 9]\n",
    "\n",
    "variance = np.var(data) # Calculate the variance\n",
    "\n",
    "print(\"Variance:\", variance)"
   ]
  },
  {
   "cell_type": "markdown",
   "id": "3390ad28-4502-4f06-8d0e-e8875a38531d",
   "metadata": {},
   "source": [
    "### 🧠 Explanation:\n",
    "\n",
    "* The **mean** of the data is `5.0`.\n",
    "* Variance = average of squared differences from the mean:\n",
    "\n",
    "  $$\n",
    "  \\frac{(2-5)^2 + (4-5)^2 + (4-5)^2 + \\dots + (9-5)^2}{N}\n",
    "  = 4.0\n",
    "  $$"
   ]
  },
  {
   "cell_type": "markdown",
   "id": "c97d2fa1-f013-4262-ac10-2caab641e353",
   "metadata": {},
   "source": [
    "### Range\n",
    "#### The difference between the maximum and minimum values."
   ]
  },
  {
   "cell_type": "code",
   "execution_count": 20,
   "id": "d5b72fd3-2a3b-452f-9c11-7327f03ca91f",
   "metadata": {},
   "outputs": [
    {
     "name": "stdout",
     "output_type": "stream",
     "text": [
      "Peak-to-peak (range): 7\n"
     ]
    }
   ],
   "source": [
    "data = [3, 7, 2, 9, 4]\n",
    "\n",
    "range_value = np.ptp(data) # Calculate the range (peak-to-peak)\n",
    "\n",
    "print(\"Peak-to-peak (range):\", range_value)"
   ]
  },
  {
   "cell_type": "markdown",
   "id": "95feb8d0-ed0e-45ab-853b-6a4a5c92ff56",
   "metadata": {},
   "source": [
    "### Sum\n",
    "#### Computes the total sum of the array elements"
   ]
  },
  {
   "cell_type": "code",
   "execution_count": 24,
   "id": "b8ae873a-511f-48bc-a3e6-4cc7444cc67d",
   "metadata": {},
   "outputs": [
    {
     "name": "stdout",
     "output_type": "stream",
     "text": [
      "Sum: 17\n",
      "Count:  4\n"
     ]
    }
   ],
   "source": [
    "data = np.array([3, 5, 7, 2])\n",
    "\n",
    "total = np.sum(data) # Calculate the sum of all elements\n",
    "\n",
    "print(\"Sum:\", total)\n",
    "print(\"Count: \", len(data))  # Count Returns the number of elements in the array."
   ]
  },
  {
   "cell_type": "markdown",
   "id": "d309ac44-838d-46a0-bf44-0eca040687a6",
   "metadata": {},
   "source": [
    "### Correlation Coefficient\n",
    "#### Measures the linear relationship between two datasets"
   ]
  },
  {
   "cell_type": "code",
   "execution_count": 25,
   "id": "9a7eff70-f5d6-4d77-9fc8-7454237345ee",
   "metadata": {},
   "outputs": [
    {
     "name": "stdout",
     "output_type": "stream",
     "text": [
      "Correlation Coefficient:\n",
      " [[1. 1.]\n",
      " [1. 1.]]\n"
     ]
    }
   ],
   "source": [
    "x = np.array([1, 2, 3, 4, 5])\n",
    "y = np.array([2, 4, 6, 8, 10])\n",
    "print(\"Correlation Coefficient:\\n\", np.corrcoef(x, y)) # computes the Pearson correlation coefficient matrix between x and y."
   ]
  },
  {
   "cell_type": "markdown",
   "id": "07904549-7a09-4402-9aaa-7c84b41c8517",
   "metadata": {},
   "source": [
    "### 📊 Pearson Correlation Coefficient\n",
    "\n",
    "* Measures the **linear relationship** between two variables.\n",
    "* Ranges from `-1` to `1`:\n",
    "\n",
    "  * `1`: Perfect positive correlation\n",
    "  * `0`: No correlation\n",
    "  * `-1`: Perfect negative correlation\n",
    "\n",
    "* This is a **2x2 matrix**:\n",
    "\n",
    "  ```\n",
    "  [[corr(x, x), corr(x, y)],\n",
    "   [corr(y, x), corr(y, y)]]\n",
    "  ```\n",
    "* Because `x` and `y` are perfectly correlated (one is exactly twice the other), all values are `1`.\n",
    "\n",
    "### ✅ Interpretation:\n",
    "\n",
    "* `np.corrcoef(x, y)[0, 1]` or `np.corrcoef(x, y)[1, 0]` gives the actual **correlation between `x` and `y`**, which is `1.0` in this case.\n"
   ]
  },
  {
   "cell_type": "markdown",
   "id": "96e1df26-058b-498f-a62f-749e3f452098",
   "metadata": {},
   "source": [
    "### Covariance\n",
    "#### Measures the relationship between the variances of two datasets."
   ]
  },
  {
   "cell_type": "code",
   "execution_count": 27,
   "id": "f988e317-6f33-48cf-99cd-950ff497e9c3",
   "metadata": {},
   "outputs": [
    {
     "name": "stdout",
     "output_type": "stream",
     "text": [
      "Covariance matrix:\n",
      " [[ 2.5   5.75]\n",
      " [ 5.75 13.7 ]]\n"
     ]
    }
   ],
   "source": [
    "# Two variables (e.g., height and weight of people)\n",
    "x = [65, 66, 67, 68, 69]  # Height\n",
    "y = [120, 121, 123, 126, 129]  # Weight\n",
    "\n",
    "# Compute the covariance matrix\n",
    "cov_matrix = np.cov(x, y)\n",
    "\n",
    "print(\"Covariance matrix:\\n\", cov_matrix)"
   ]
  },
  {
   "cell_type": "markdown",
   "id": "3a1ca8c5-8a16-4c7f-b687-12a2d4ec4d5f",
   "metadata": {},
   "source": [
    "### 🔍 Step-by-Step: What Is Covariance?\n",
    "\n",
    "Covariance measures **how two variables change together**:\n",
    "\n",
    "* If both increase together → covariance is **positive**.\n",
    "* If one increases while the other decreases → covariance is **negative**.\n",
    "* If they vary independently → covariance is **around 0**.\n",
    "\n",
    "### 🧠 How to Interpret the Output:\n",
    "\n",
    "The matrix returned by `np.cov()` is:\n",
    "\n",
    "```\n",
    "[[Var(x), Cov(x, y)],\n",
    " [Cov(y, x), Var(y)]]\n",
    "```\n",
    "\n",
    "* `Var(x)` = variance of x (height)\n",
    "* `Var(y)` = variance of y (weight)\n",
    "* `Cov(x, y)` = `Cov(y, x)` = covariance between height and weight\n",
    "\n",
    "So in this case:\n",
    "\n",
    "* Variance of `x` = 2.5\n",
    "* Variance of `y` = 13.0\n",
    "* Covariance between `x` and `y` = 5.75 (positive → they increase together)\n",
    "\n",
    "\n",
    "#### 📐 Step 1: Find the means\n",
    "\n",
    "```\n",
    "mean_x = (65 + 66 + 67 + 68 + 69) / 5 = 67\n",
    "mean_y = (120 + 121 + 123 + 126 + 129) / 5 = 123.8\n",
    "```\n",
    "\n",
    "---\n",
    "\n",
    "#### 📐 Step 2: Compute each pair’s deviation from mean and multiply\n",
    "\n",
    "| x  | y   | x−mean\\_x | y−mean\\_y | (x−mean\\_x)(y−mean\\_y) |\n",
    "| -- | --- | --------- | --------- | ---------------------- |\n",
    "| 65 | 120 | -2        | -3.8      | 7.6                    |\n",
    "| 66 | 121 | -1        | -2.8      | 2.8                    |\n",
    "| 67 | 123 | 0         | -0.8      | 0                      |\n",
    "| 68 | 126 | 1         | 2.2       | 2.2                    |\n",
    "| 69 | 129 | 2         | 5.2       | 10.4                   |\n",
    "\n",
    "Sum of products:\n",
    "`7.6 + 2.8 + 0 + 2.2 + 10.4 = 23`\n",
    "\n",
    "---\n",
    "\n",
    "#### 📐 Step 3: Divide by `n - 1` (Bessel's correction)\n",
    "\n",
    "```\n",
    "Cov(x, y) = sum / (n - 1) = 23 / 4 = 5.75\n",
    "```\n",
    "---\n",
    "\n",
    "### ✅ Final Insight\n",
    "\n",
    "* **Positive covariance (e.g., 5.75)** means:\n",
    "\n",
    "  > As **x increases**, **y tends to increase** too.\n",
    "\n",
    "  In our case: taller people tend to weigh more.\n",
    "\n",
    "* If covariance were **negative**, that would mean: as one increases, the other tends to **decrease**."
   ]
  },
  {
   "cell_type": "markdown",
   "id": "9341cded-18e0-4c6f-935c-27352bdb48c1",
   "metadata": {},
   "source": [
    "### Skewness\n",
    "#### Measures the asymmetry of the dataset."
   ]
  },
  {
   "cell_type": "code",
   "execution_count": 30,
   "id": "a39c8ac8-3986-418f-93f5-0beb5ef64249",
   "metadata": {},
   "outputs": [
    {
     "name": "stdout",
     "output_type": "stream",
     "text": [
      "Skewness: 1.418505623226429\n",
      "Unbiased Skewness: 1.942368819472598\n"
     ]
    }
   ],
   "source": [
    "from scipy.stats import skew\n",
    "\n",
    "data = [1, 2, 2, 3, 4, 10]  # Positively skewed due to the high value 10\n",
    "\n",
    "skewness = skew(data)  # Calculate skewness\n",
    "\n",
    "print(\"Skewness:\", skewness)\n",
    "\n",
    "skewness = skew(data, bias=False) # uses the unbiased estimator (recommended for statistical accuracy in most cases).\n",
    "print(\"Unbiased Skewness:\", skewness)"
   ]
  },
  {
   "cell_type": "markdown",
   "id": "28821b30-9819-41f3-a96f-3f9a5f716c9e",
   "metadata": {},
   "source": [
    "### 📊 Interpretation:\n",
    "\n",
    "* **Skewness > 0**: Right-skewed (tail on the right)\n",
    "* **Skewness < 0**: Left-skewed (tail on the left)\n",
    "* **Skewness ≈ 0**: Symmetrical distribution (like a normal distribution)"
   ]
  },
  {
   "cell_type": "markdown",
   "id": "b9c6d81d-e814-4ad0-9340-7fa1f0bbf200",
   "metadata": {},
   "source": [
    "### Kurtosis\n",
    "#### Measures the \"tailedness\" of the dataset."
   ]
  },
  {
   "cell_type": "code",
   "execution_count": 32,
   "id": "940ecb93-57f3-4317-adbb-18238d9a602c",
   "metadata": {},
   "outputs": [
    {
     "name": "stdout",
     "output_type": "stream",
     "text": [
      "Kurtosis: -0.21875\n"
     ]
    }
   ],
   "source": [
    "from scipy.stats import kurtosis\n",
    "\n",
    "data = [2, 4, 4, 4, 5, 5, 7, 9]\n",
    "\n",
    "kurt = kurtosis(data)  # Calculate kurtosis\n",
    "\n",
    "print(\"Kurtosis:\", kurt)"
   ]
  },
  {
   "cell_type": "markdown",
   "id": "c7a797b2-f3bf-4d5f-8e01-68521ccd173c",
   "metadata": {},
   "source": [
    "### 🧠 What It Means:\n",
    "\n",
    "* A **negative kurtosis** means the distribution is **platykurtic** — flatter than a normal distribution (lighter tails).\n",
    "* A **positive kurtosis** means **leptokurtic** — heavier tails, more outliers.\n",
    "* A kurtosis of **0** (when using `fisher=True`, the default) indicates a **normal distribution** (mesokurtic).\n",
    "\n",
    "### 🔧 Optional Parameters:\n",
    "\n",
    "```python\n",
    "kurtosis(data, fisher=True, bias=True, nan_policy='propagate')\n",
    "```\n",
    "\n",
    "* **fisher=True** (default): Returns **excess kurtosis** (normal dist = 0).\n",
    "\n",
    "  * Set `fisher=False` for **regular kurtosis** (normal dist = 3).\n",
    "* **bias=True**: Corrects for statistical bias.\n",
    "* **nan\\_policy='propagate'**: How to handle NaNs (`'omit'`, `'raise'`, `'propagate'`)."
   ]
  },
  {
   "cell_type": "markdown",
   "id": "be5e75c0-6337-474a-b5d4-94a5321c8210",
   "metadata": {},
   "source": [
    "### Working with Multidimensional Arrays"
   ]
  },
  {
   "cell_type": "code",
   "execution_count": 34,
   "id": "70a5e80a-37ef-426a-870a-55a99c28cfab",
   "metadata": {},
   "outputs": [
    {
     "name": "stdout",
     "output_type": "stream",
     "text": [
      "Column-wise Mean: [25. 35. 45.]\n",
      "Row-wise Mean: [20. 50.]\n"
     ]
    }
   ],
   "source": [
    "matrix = np.array([[10, 20, 30], [40, 50, 60]])\n",
    "\n",
    "# Mean along columns\n",
    "print(\"Column-wise Mean:\", np.mean(matrix, axis=0))  # Output: [25. 35. 45.]\n",
    "\n",
    "# Mean along rows\n",
    "print(\"Row-wise Mean:\", np.mean(matrix, axis=1)) # Output: [20. 50.]"
   ]
  },
  {
   "cell_type": "markdown",
   "id": "292c644b-c3c7-4aa6-b872-07130f0e4dbd",
   "metadata": {},
   "source": [
    "### Practical Example"
   ]
  },
  {
   "cell_type": "code",
   "execution_count": 36,
   "id": "632f86e3-1398-4272-8a81-081142ad3bdd",
   "metadata": {},
   "outputs": [
    {
     "name": "stdout",
     "output_type": "stream",
     "text": [
      "Mean: 48.84\n",
      "Median: 50.5\n",
      "Standard Deviation: 29.260116199359153\n",
      "90th Percentile: 86.40000000000003\n",
      "Correlation Coefficient:\n",
      " [[1.         0.93757185]\n",
      " [0.93757185 1.        ]]\n",
      "Covariance Matrix:\n",
      " [[8.44634719 8.03553704]\n",
      " [8.03553704 8.69664541]]\n",
      "Original Data:\n",
      " [[0.86288238 0.19619927 0.37434338]\n",
      " [0.27776956 0.9993055  0.96311429]\n",
      " [0.7282521  0.65568695 0.95532326]\n",
      " [0.26126675 0.15616517 0.87614895]\n",
      " [0.46255776 0.23470976 0.51695414]\n",
      " [0.05627009 0.52479825 0.48432393]\n",
      " [0.63925236 0.26413424 0.35641493]\n",
      " [0.42120411 0.1998025  0.2981779 ]\n",
      " [0.04818422 0.36447112 0.93200033]\n",
      " [0.15177201 0.09723376 0.49222742]]\n",
      "Standardized Data:\n",
      " [[ 1.7581832  -0.64924841 -0.96681948]\n",
      " [-0.42161257  2.3638188   1.30503709]\n",
      " [ 1.25662778  1.07464217  1.27497429]\n",
      " [-0.4830926  -0.799447    0.96946889]\n",
      " [ 0.26680258 -0.50476604 -0.4165355 ]\n",
      " [-1.24679293  0.58357831 -0.54244384]\n",
      " [ 0.92506563 -0.39437226 -1.03599894]\n",
      " [ 0.11274254 -0.63572994 -1.26071483]\n",
      " [-1.27691627 -0.0179317   1.18497942]\n",
      " [-0.89100737 -1.02054393 -0.51194709]]\n"
     ]
    }
   ],
   "source": [
    "# Generate 100 random integers between 1 and 99\n",
    "data = np.random.randint(1, 100, size=100)\n",
    "\n",
    "# Descriptive statistics\n",
    "print(\"Mean:\", np.mean(data))                      # Calculate mean\n",
    "print(\"Median:\", np.median(data))                  # Calculate median\n",
    "print(\"Standard Deviation:\", np.std(data))         # Calculate standard deviation\n",
    "\n",
    "# Percentiles\n",
    "print(\"90th Percentile:\", np.percentile(data, 90)) # Calculate 90th percentile\n",
    "\n",
    "# Compare two variables\n",
    "x = np.random.random(100) * 10                     # Generate 100 random float values between 0 and 10\n",
    "y = x + np.random.normal(0, 1, 100)                # Add Gaussian noise to x to create y\n",
    "\n",
    "# Correlation and covariance\n",
    "print(\"Correlation Coefficient:\\n\", np.corrcoef(x, y)) # Correlation matrix between x and y\n",
    "print(\"Covariance Matrix:\\n\", np.cov(x, y))            # Covariance matrix between x and y\n",
    "\n",
    "# Data transformation (standardization)\n",
    "data = np.random.random((10, 3))                      # Generate 10x3 array of random values\n",
    "standardized = (data - np.mean(data, axis=0)) / np.std(data, axis=0) # Standardize each column\n",
    "\n",
    "print(\"Original Data:\\n\", data)\n",
    "print(\"Standardized Data:\\n\", standardized)"
   ]
  },
  {
   "cell_type": "code",
   "execution_count": null,
   "id": "a891d41e-755b-434f-bf43-31761c25d7e2",
   "metadata": {},
   "outputs": [],
   "source": []
  }
 ],
 "metadata": {
  "kernelspec": {
   "display_name": "Python 3 (ipykernel)",
   "language": "python",
   "name": "python3"
  },
  "language_info": {
   "codemirror_mode": {
    "name": "ipython",
    "version": 3
   },
   "file_extension": ".py",
   "mimetype": "text/x-python",
   "name": "python",
   "nbconvert_exporter": "python",
   "pygments_lexer": "ipython3",
   "version": "3.9.21"
  }
 },
 "nbformat": 4,
 "nbformat_minor": 5
}
