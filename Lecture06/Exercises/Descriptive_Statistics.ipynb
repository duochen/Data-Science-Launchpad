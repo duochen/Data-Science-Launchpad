{
 "cells": [
  {
   "cell_type": "markdown",
   "id": "67c0fcab-45b5-4731-bb1b-051cb6b06f13",
   "metadata": {},
   "source": [
    "# Descriptive Statistics\n",
    "## Descriptive statistics provide a summary of a dataset by describing its main features, such as central tendency, dispersion, and shape.\n",
    "## These statistical measures are essential for understanding the underlying structure and patterns in data before conducting further analysis."
   ]
  },
  {
   "cell_type": "markdown",
   "id": "af2b60b0-18af-440e-ad59-02cac0e6986a",
   "metadata": {},
   "source": [
    "### Measures of Central Tendency:\n",
    "#### Describe the center or typical value of the data.\n",
    "#### Common metrics: Mean, Median, Mode."
   ]
  },
  {
   "cell_type": "code",
   "execution_count": 1,
   "id": "84aba658-47ff-44a3-a4d5-30e1f19111c8",
   "metadata": {},
   "outputs": [],
   "source": [
    "import numpy as np"
   ]
  },
  {
   "cell_type": "code",
   "execution_count": 3,
   "id": "4f3636bc-e606-4c98-953e-da6791dc2670",
   "metadata": {},
   "outputs": [
    {
     "name": "stdout",
     "output_type": "stream",
     "text": [
      "Mean: 30.0\n"
     ]
    }
   ],
   "source": [
    "data = np.array([10, 20, 30, 40, 50])\n",
    "\n",
    "# Mean\n",
    "print(\"Mean:\", np.mean(data))"
   ]
  },
  {
   "cell_type": "code",
   "execution_count": 4,
   "id": "d05aee89-40bb-4296-b947-5f5841e4f484",
   "metadata": {},
   "outputs": [
    {
     "name": "stdout",
     "output_type": "stream",
     "text": [
      "Median:  30.0\n"
     ]
    }
   ],
   "source": [
    "# Median\n",
    "print(\"Median: \", np.median(data))"
   ]
  },
  {
   "cell_type": "markdown",
   "id": "ab663b12-e86d-4241-a414-ca1c756a709a",
   "metadata": {},
   "source": [
    "### Measures of Dispersion:\n",
    "#### Indicate the spread or variability in the data.\n",
    "#### Common metrics: Variance, Standard Deviation, Range, Interquartile Range (IQR)."
   ]
  },
  {
   "cell_type": "code",
   "execution_count": 5,
   "id": "b165d7bb-2057-4613-8a97-6b74f45d504a",
   "metadata": {},
   "outputs": [
    {
     "name": "stdout",
     "output_type": "stream",
     "text": [
      "Standard Deviation: 14.142135623730951\n",
      "Variance: 200.0\n",
      "Range: 40\n"
     ]
    }
   ],
   "source": [
    "# Standard Deviation\n",
    "print(\"Standard Deviation:\", np.std(data)) # Output: 14.14\n",
    "\n",
    "# Variance\n",
    "print(\"Variance:\", np.var(data)) # Output: 200.0\n",
    "\n",
    "# Range\n",
    "print(\"Range:\", np.ptp(data)) # Output: 40"
   ]
  },
  {
   "cell_type": "markdown",
   "id": "68ccc72f-133e-4cd4-9dd4-b7f5d2c3c99d",
   "metadata": {},
   "source": [
    "### Other Key Metrics:\n",
    "#### Percentiles, quantiles, and frequencies."
   ]
  },
  {
   "cell_type": "code",
   "execution_count": 7,
   "id": "03144d92-1b23-423e-aedc-220cb001f283",
   "metadata": {},
   "outputs": [
    {
     "name": "stdout",
     "output_type": "stream",
     "text": [
      "25th Percentile: 20.0\n",
      "75th Percentile: 40.0\n"
     ]
    }
   ],
   "source": [
    "# 25th and 75th Percentiles\n",
    "print(\"25th Percentile:\", np.percentile(data, 25)) # Output: 20.0\n",
    "print(\"75th Percentile:\", np.percentile(data, 75)) # Output: 40.0"
   ]
  },
  {
   "cell_type": "markdown",
   "id": "1bd1a79b-dc0d-4005-b7d9-d88fef920bb6",
   "metadata": {},
   "source": [
    "### Using Pandas for Descriptive Statistics"
   ]
  },
  {
   "cell_type": "code",
   "execution_count": 10,
   "id": "73faf727-be14-47cd-95b2-d595914b3cad",
   "metadata": {},
   "outputs": [
    {
     "name": "stdout",
     "output_type": "stream",
     "text": [
      "count     5.000000\n",
      "mean     30.000000\n",
      "std      15.811388\n",
      "min      10.000000\n",
      "25%      20.000000\n",
      "50%      30.000000\n",
      "75%      40.000000\n",
      "max      50.000000\n",
      "dtype: float64\n"
     ]
    }
   ],
   "source": [
    "# Statistical Summary with describe()\n",
    "import pandas as pd\n",
    "\n",
    "data = pd.Series([10, 20, 30, 40, 50])\n",
    "\n",
    "# Summary statistics\n",
    "print(data.describe())"
   ]
  },
  {
   "cell_type": "code",
   "execution_count": 11,
   "id": "901ac5c0-df45-4704-afe4-92aee1f7aad4",
   "metadata": {},
   "outputs": [
    {
     "name": "stdout",
     "output_type": "stream",
     "text": [
      "Mean: 30.0\n",
      "Median: 30.0\n",
      "Mode: 0    10\n",
      "1    20\n",
      "2    30\n",
      "3    40\n",
      "4    50\n",
      "dtype: int64\n"
     ]
    }
   ],
   "source": [
    "# Central Tendency\n",
    "# Mean\n",
    "print(\"Mean:\", data.mean()) # Output: 30.0\n",
    "\n",
    "# Median\n",
    "print(\"Median:\", data.median()) # Output: 30.0\n",
    "\n",
    "# Mode\n",
    "print(\"Mode:\", data.mode()) # Output: 10 (if there's a tie, it returns all modes)"
   ]
  },
  {
   "cell_type": "code",
   "execution_count": 12,
   "id": "fbe9c237-67e5-4c62-817e-6ecbf8db1ab6",
   "metadata": {},
   "outputs": [
    {
     "name": "stdout",
     "output_type": "stream",
     "text": [
      "Variance: 250.0\n",
      "Standard Deviation: 15.811388300841896\n"
     ]
    }
   ],
   "source": [
    "# Dispersion\n",
    "# Variance\n",
    "print(\"Variance:\", data.var()) # Output: 250.0\n",
    "\n",
    "# Standard Deviation\n",
    "print(\"Standard Deviation:\", data.std()) # Output: 15.81"
   ]
  },
  {
   "cell_type": "code",
   "execution_count": 13,
   "id": "61f0568b-ed3f-489e-8c25-aaaec9b03f25",
   "metadata": {},
   "outputs": [
    {
     "name": "stdout",
     "output_type": "stream",
     "text": [
      "25th Percentile: 20.0\n",
      "75th Percentile: 40.0\n"
     ]
    }
   ],
   "source": [
    "# Percentiles\n",
    "# Quantiles\n",
    "print(\"25th Percentile:\", data.quantile(0.25)) # Output: 20.0\n",
    "print(\"75th Percentile:\", data.quantile(0.75)) # Output: 40.0"
   ]
  },
  {
   "cell_type": "markdown",
   "id": "0f75dc84-9c70-4a62-92e9-2e15eb8ababc",
   "metadata": {},
   "source": [
    "### Using SciPy for Advanced Descriptive Statistics"
   ]
  },
  {
   "cell_type": "markdown",
   "id": "47165afe-6518-400c-836e-a704fdeed0c8",
   "metadata": {},
   "source": [
    "### Shape of Data Distribution:\n",
    "#### Describe the shape or symmetry of the data.\n",
    "#### Metrics include Skewness and Kurtosis."
   ]
  },
  {
   "cell_type": "code",
   "execution_count": null,
   "id": "66c4f91d-1de1-420f-a9e8-454bedf36a3c",
   "metadata": {},
   "outputs": [],
   "source": []
  }
 ],
 "metadata": {
  "kernelspec": {
   "display_name": "Python 3 (ipykernel)",
   "language": "python",
   "name": "python3"
  },
  "language_info": {
   "codemirror_mode": {
    "name": "ipython",
    "version": 3
   },
   "file_extension": ".py",
   "mimetype": "text/x-python",
   "name": "python",
   "nbconvert_exporter": "python",
   "pygments_lexer": "ipython3",
   "version": "3.12.7"
  }
 },
 "nbformat": 4,
 "nbformat_minor": 5
}
