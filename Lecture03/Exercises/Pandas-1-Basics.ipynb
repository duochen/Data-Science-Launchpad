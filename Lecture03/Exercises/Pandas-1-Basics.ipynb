{
 "cells": [
  {
   "cell_type": "markdown",
   "id": "2f451964-e2c4-4be8-a455-1df0ec6f5a6f",
   "metadata": {},
   "source": [
    "# Pandas Basics\n",
    "In this chapter, you will see a brief introduction to the Pandas series\n",
    "and Dataframes, which are two basic data structures for storing data\n",
    "in Pandas. Next, you will see how to create these data structures and\n",
    "some basic functions that you can perform with Pandas. You will then\n",
    "study how to import datasets into a Pandas dataframe using various\n",
    "input sources. Finally, the chapter concludes with an explanation of\n",
    "the techniques for handling missing data in Pandas dataframes."
   ]
  },
  {
   "cell_type": "markdown",
   "id": "dd273418-a777-48ff-90b8-32c810fa1c1e",
   "metadata": {},
   "source": [
    "## 1. Pandas Series\n",
    "A Pandas series is a data structure that stores data in the form of a\n",
    "column. A series is normally used to store information about a\n",
    "particular attribute in your dataset. Let’s see how you can create a\n",
    "series in Pandas."
   ]
  },
  {
   "cell_type": "markdown",
   "id": "431cc06c-f003-4c54-ba22-7abf97fbabd1",
   "metadata": {},
   "source": [
    "### 1.1. Creating Pandas Series\n",
    "There are different ways to create a series with Pandas. The\n",
    "following script imports the Pandas module and then calls the\n",
    "Series() class constructor to create an empty series."
   ]
  },
  {
   "cell_type": "code",
   "execution_count": 2,
   "id": "22f8db49-48c2-46d2-92ba-45f5fb0d985f",
   "metadata": {},
   "outputs": [
    {
     "name": "stdout",
     "output_type": "stream",
     "text": [
      "Series([], dtype: object)\n"
     ]
    }
   ],
   "source": [
    "# Import the pandas library and give it the alias 'pd'\n",
    "import pandas as pd\n",
    "\n",
    "# Create an empty pandas Series object\n",
    "my_series = pd.Series()\n",
    "\n",
    "# Print the empty Series to the console\n",
    "print(my_series)"
   ]
  },
  {
   "cell_type": "code",
   "execution_count": 3,
   "id": "56a25a42-233f-4fa4-9d6d-c711225c7ea9",
   "metadata": {},
   "outputs": [
    {
     "name": "stdout",
     "output_type": "stream",
     "text": [
      "0    10\n",
      "1    20\n",
      "2    30\n",
      "3    40\n",
      "4    50\n",
      "dtype: int32\n"
     ]
    }
   ],
   "source": [
    "# Import the pandas library and give it the alias 'pd'\n",
    "import pandas as pd\n",
    "\n",
    "# Import the numpy library and give it the alias 'np'\n",
    "import numpy as np\n",
    "\n",
    "# Create a NumPy array with the values 10, 20, 30, 40, 50\n",
    "my_array = np.array([10, 20, 30, 40, 50])\n",
    "\n",
    "# Convert the NumPy array into a Pandas Series\n",
    "my_series = pd.Series(my_array)\n",
    "\n",
    "# Print the Pandas Series to the console\n",
    "print(my_series)"
   ]
  },
  {
   "cell_type": "code",
   "execution_count": 4,
   "id": "764bffea-c262-49e3-b031-e7a565ee6686",
   "metadata": {},
   "outputs": [
    {
     "name": "stdout",
     "output_type": "stream",
     "text": [
      "num1    10\n",
      "num2    20\n",
      "num3    30\n",
      "num4    40\n",
      "num5    50\n",
      "dtype: int32\n"
     ]
    }
   ],
   "source": [
    "# Create a NumPy array with five integer elements\n",
    "my_array = np.array([10, 20, 30, 40, 50])\n",
    "\n",
    "# Create a Pandas Series using the NumPy array\n",
    "# Assign custom indexes (\"num1\" to \"num5\") to the series\n",
    "my_series = pd.Series(my_array, index=[\"num1\", \"num2\", \"num3\", \"num4\", \"num5\"])\n",
    "\n",
    "# Print the Pandas Series to display its data along with custom indexes\n",
    "print(my_series)"
   ]
  },
  {
   "cell_type": "code",
   "execution_count": 5,
   "id": "f17a8bad-7fa8-4f87-96fa-4b8f4f244a2e",
   "metadata": {},
   "outputs": [
    {
     "name": "stdout",
     "output_type": "stream",
     "text": [
      "num1    10\n",
      "num2    20\n",
      "num3    30\n",
      "num4    40\n",
      "num5    50\n",
      "dtype: int64\n"
     ]
    }
   ],
   "source": [
    "# Create a Pandas Series with a list of values [10, 20, 30, 40, 50]\n",
    "# Assign custom index labels [\"num1\", \"num2\", \"num3\", \"num4\", \"num5\"] to each value\n",
    "my_series = pd.Series([10, 20, 30, 40, 50], index=[\"num1\", \"num2\", \"num3\", \"num4\", \"num5\"])\n",
    "\n",
    "# Print the Series to display its contents\n",
    "print(my_series)\n"
   ]
  },
  {
   "cell_type": "code",
   "execution_count": 6,
   "id": "940c5a18-1f58-451a-8c5d-e8128203f12e",
   "metadata": {},
   "outputs": [
    {
     "name": "stdout",
     "output_type": "stream",
     "text": [
      "num1    25\n",
      "num2    25\n",
      "num3    25\n",
      "num4    25\n",
      "num5    25\n",
      "dtype: int64\n"
     ]
    }
   ],
   "source": [
    "# Create a pandas Series with a scalar value 25\n",
    "# The scalar 25 will be assigned to all the specified index labels\n",
    "my_series = pd.Series(25, index=[\"num1\", \"num2\", \"num3\", \"num4\", \"num5\"])\n",
    "\n",
    "# Print the created Series\n",
    "print(my_series)"
   ]
  },
  {
   "cell_type": "code",
   "execution_count": 7,
   "id": "016886c6-e236-4f46-af9b-291fa8399ce7",
   "metadata": {},
   "outputs": [
    {
     "name": "stdout",
     "output_type": "stream",
     "text": [
      "num1    6\n",
      "num2    7\n",
      "num3    8\n",
      "dtype: int64\n"
     ]
    }
   ],
   "source": [
    "# Define a dictionary with three key-value pairs\n",
    "# Keys are 'num1', 'num2', 'num3', and values are 6, 7, and 8 respectively\n",
    "my_dict = {\n",
    "    'num1': 6,\n",
    "    'num2': 7,\n",
    "    'num3': 8\n",
    "}\n",
    "\n",
    "# Create a Pandas Series from the dictionary\n",
    "# The dictionary keys become the index of the Series\n",
    "# The dictionary values become the data of the Series\n",
    "my_series = pd.Series(my_dict)\n",
    "\n",
    "# Print the resulting Series to the console\n",
    "print(my_series)\n"
   ]
  },
  {
   "cell_type": "markdown",
   "id": "db38e397-e775-4e21-8acf-abc7a37ca9c3",
   "metadata": {},
   "source": [
    "### 1.2. Useful Operations on Pandas Series\n",
    "Let’s see some of the useful operations you can perform with the\n",
    "Pandas series.\n",
    "You can use square brackets as well as index labels to access series\n",
    "items."
   ]
  },
  {
   "cell_type": "code",
   "execution_count": 9,
   "id": "f1140740-22e7-44ed-be80-186605cbdd23",
   "metadata": {},
   "outputs": [
    {
     "name": "stdout",
     "output_type": "stream",
     "text": [
      "10\n",
      "30\n"
     ]
    }
   ],
   "source": [
    "# Create a pandas Series with values and custom index labels\n",
    "my_series = pd.Series(\n",
    "    [10, 20, 30, 40, 50],\n",
    "    index=[\"num1\", \"num2\", \"num3\", \"num4\", \"num5\"]\n",
    ")\n",
    "\n",
    "# Access by position using .iloc (avoids FutureWarning)\n",
    "print(my_series.iloc[0])  # Output: 10\n",
    "\n",
    "# Access by label stays the same\n",
    "print(my_series['num3'])  # Output: 30"
   ]
  },
  {
   "cell_type": "code",
   "execution_count": 10,
   "id": "47aaefe7-36ef-4efd-99c9-be378a7c3d12",
   "metadata": {},
   "outputs": [
    {
     "name": "stdout",
     "output_type": "stream",
     "text": [
      "2\n",
      "11\n"
     ]
    }
   ],
   "source": [
    "# Create a Pandas Series (1D array-like object) with some integer values\n",
    "my_series = pd.Series([5, 8, 2, 11, 9])\n",
    "\n",
    "# Find and print the minimum value in the Series using NumPy's min function\n",
    "print(np.min(my_series))\n",
    "\n",
    "# Find and print the maximum value in the Series using NumPy's max function\n",
    "print(np.max(my_series))\n"
   ]
  },
  {
   "cell_type": "code",
   "execution_count": 11,
   "id": "6e6f6e77-ae2d-40c8-9efa-645fc990d52b",
   "metadata": {},
   "outputs": [
    {
     "name": "stdout",
     "output_type": "stream",
     "text": [
      "7.0\n"
     ]
    }
   ],
   "source": [
    "# Create a Pandas Series object with a list of numbers\n",
    "my_series = pd.Series([5, 8, 2, 11, 9])\n",
    "\n",
    "# Calculate and print the mean (average) of the values in the Series\n",
    "print(my_series.mean())\n"
   ]
  },
  {
   "cell_type": "code",
   "execution_count": 12,
   "id": "f78c0682-9c39-492d-b191-032f2eae9771",
   "metadata": {},
   "outputs": [
    {
     "name": "stdout",
     "output_type": "stream",
     "text": [
      "8.0\n"
     ]
    }
   ],
   "source": [
    "# Create a Pandas Series (a one-dimensional array) with a list of numbers\n",
    "my_series = pd.Series([5, 8, 2, 11, 9])\n",
    "\n",
    "# Calculate and print the median value of the series\n",
    "print(my_series.median())"
   ]
  },
  {
   "cell_type": "code",
   "execution_count": 13,
   "id": "f9c18be8-5f3a-4340-acd4-2392b892cd3c",
   "metadata": {},
   "outputs": [
    {
     "name": "stdout",
     "output_type": "stream",
     "text": [
      "int64\n"
     ]
    }
   ],
   "source": [
    "# Create a Pandas Series object from a list of integers\n",
    "my_series = pd.Series([5, 8, 2, 11, 9])\n",
    "\n",
    "# Print the data type (dtype) of the elements stored in the Series\n",
    "print(my_series.dtype)"
   ]
  },
  {
   "cell_type": "code",
   "execution_count": 14,
   "id": "257bbfb9-416a-49ef-a257-06159d569e43",
   "metadata": {},
   "outputs": [
    {
     "name": "stdout",
     "output_type": "stream",
     "text": [
      "[5, 8, 2, 11, 9]\n"
     ]
    }
   ],
   "source": [
    "# Create a Pandas Series from a Python list of integers\n",
    "my_series = pd.Series([5, 8, 2, 11, 9])\n",
    "\n",
    "# Convert the Pandas Series to a Python list using the .tolist() method\n",
    "# and print the resulting list\n",
    "print(my_series.tolist())"
   ]
  },
  {
   "cell_type": "markdown",
   "id": "8dedc059-00bd-4027-b89e-b66b57a5683f",
   "metadata": {},
   "source": [
    "## 2. Pandas Dataframe\n",
    "Pandas dataframe is a tabular data structure that stores data in the\n",
    "form of rows and columns. As a standard, the rows correspond to\n",
    "records while columns refer to attributes. In simplest words, a Pandas\n",
    "dataframe is a collection of series."
   ]
  },
  {
   "cell_type": "markdown",
   "id": "b82adaa8-bab3-448b-9198-fd5efb49d99e",
   "metadata": {},
   "source": [
    "### 2.1. Creating a Pandas Dataframe\n",
    "As is the case with a series, there are multiple ways to create a\n",
    "Pandas dataframe.\n",
    "To create an empty dataframe, you can use the DataFrame class\n",
    "from the Pandas module."
   ]
  },
  {
   "cell_type": "code",
   "execution_count": 16,
   "id": "ce19e2be-45e6-44f2-9175-4e078eec98f4",
   "metadata": {},
   "outputs": [
    {
     "name": "stdout",
     "output_type": "stream",
     "text": [
      "Empty DataFrame\n",
      "Columns: []\n",
      "Index: []\n"
     ]
    }
   ],
   "source": [
    "# Create an empty pandas DataFrame\n",
    "my_df = pd.DataFrame()\n",
    "\n",
    "# Print the empty DataFrame to the console\n",
    "print(my_df)\n"
   ]
  },
  {
   "cell_type": "code",
   "execution_count": 17,
   "id": "06a4754f-8f8a-4bf4-ab7f-658c887b04c5",
   "metadata": {},
   "outputs": [
    {
     "name": "stdout",
     "output_type": "stream",
     "text": [
      "       Subject  Score\n",
      "0  Mathematics     85\n",
      "1      English     91\n",
      "2      History     95\n"
     ]
    }
   ],
   "source": [
    "# Create a list of lists where each sublist contains a subject and its corresponding score\n",
    "scores = [\n",
    "    ['Mathematics', 85],\n",
    "    ['English', 91],\n",
    "    ['History', 95]\n",
    "]\n",
    "\n",
    "# Create a DataFrame from the list of lists\n",
    "# Set column names as 'Subject' and 'Score'\n",
    "my_df = pd.DataFrame(scores, columns=['Subject', 'Score'])\n",
    "\n",
    "# Display the DataFrame\n",
    "print(my_df)"
   ]
  },
  {
   "cell_type": "code",
   "execution_count": 18,
   "id": "e9254fe2-c87a-4320-a40e-c11c04b9244c",
   "metadata": {},
   "outputs": [
    {
     "name": "stdout",
     "output_type": "stream",
     "text": [
      "       Subject  Score\n",
      "0  Mathematics     98\n",
      "1      History     75\n",
      "2      English     68\n",
      "3      Science     82\n",
      "4         Arts     99\n"
     ]
    }
   ],
   "source": [
    "# Create a dictionary named 'scores' with two keys: 'Subject' and 'Score'\n",
    "# 'Subject' contains a list of subjects\n",
    "# 'Score' contains a list of corresponding scores\n",
    "scores = {\n",
    "    'Subject': [\"Mathematics\", \"History\", \"English\", \"Science\", \"Arts\"],\n",
    "    'Score': [98, 75, 68, 82, 99]\n",
    "}\n",
    "\n",
    "# Convert the dictionary into a Pandas DataFrame and assign it to 'my_df'\n",
    "# A DataFrame is like a table with rows and columns\n",
    "my_df = pd.DataFrame(scores)\n",
    "\n",
    "# Display the DataFrame to see the data in tabular form\n",
    "print(my_df)\n"
   ]
  },
  {
   "cell_type": "code",
   "execution_count": 19,
   "id": "df4cbc9c-1e9b-48d1-9ce7-4aae445f4a7c",
   "metadata": {},
   "outputs": [
    {
     "name": "stdout",
     "output_type": "stream",
     "text": [
      "       Subject  Score\n",
      "0  Mathematics     85\n",
      "1      History     98\n",
      "2      English     76\n",
      "3      Science     72\n",
      "4         Arts     95\n"
     ]
    }
   ],
   "source": [
    "# Create a list of dictionaries where each dictionary represents a subject and its corresponding score\n",
    "scores = [\n",
    "    {'Subject': 'Mathematics', 'Score': 85},  # Mathematics score\n",
    "    {'Subject': 'History', 'Score': 98},      # History score\n",
    "    {'Subject': 'English', 'Score': 76},      # English score\n",
    "    {'Subject': 'Science', 'Score': 72},      # Science score\n",
    "    {'Subject': 'Arts', 'Score': 95}          # Arts score\n",
    "]\n",
    "\n",
    "# Convert the list of dictionaries into a pandas DataFrame\n",
    "my_df = pd.DataFrame(scores)\n",
    "\n",
    "# Print the DataFrame to display it as a table\n",
    "print(my_df)"
   ]
  },
  {
   "cell_type": "code",
   "execution_count": 20,
   "id": "ba495590-9fb2-40f6-badd-224be21f23bf",
   "metadata": {},
   "outputs": [
    {
     "name": "stdout",
     "output_type": "stream",
     "text": [
      "       Subject  Score\n",
      "0  Mathematics     85\n",
      "1      History     98\n",
      "2      English     76\n",
      "3          NaN     72\n",
      "4         Arts     95\n"
     ]
    }
   ],
   "source": [
    "# Create a list of dictionaries, each representing a row in the DataFrame\n",
    "# Each dictionary contains a subject and a score\n",
    "# One dictionary is missing the 'Subject' key to demonstrate handling of null values\n",
    "scores = [\n",
    "    {'Subject': 'Mathematics', 'Score': 85},\n",
    "    {'Subject': 'History', 'Score': 98},\n",
    "    {'Subject': 'English', 'Score': 76},\n",
    "    {'Score': 72},  # This entry has no 'Subject' key, will result in NaN for 'Subject'\n",
    "    {'Subject': 'Arts', 'Score': 95},\n",
    "]\n",
    "\n",
    "# Create a DataFrame from the list of dictionaries\n",
    "# Pandas automatically handles missing values and fills them with NaN (Not a Number)\n",
    "my_df = pd.DataFrame(scores)\n",
    "\n",
    "# Print the DataFrame to display its contents, including the null value\n",
    "print(my_df)"
   ]
  },
  {
   "cell_type": "markdown",
   "id": "64181083-baa0-47b1-915c-60e3b4007b18",
   "metadata": {},
   "source": [
    "### 2.2. Basic Operations on Pandas Dataframe\n",
    "Let’s now see some of the basic operations that you can perform on\n",
    "Pandas dataframes. To view the top(N) rows of a dataframe, you can call the head() method"
   ]
  },
  {
   "cell_type": "code",
   "execution_count": 21,
   "id": "3ae2f89a-53e0-4828-bd0c-c5d01cf83655",
   "metadata": {},
   "outputs": [
    {
     "data": {
      "text/html": [
       "<div>\n",
       "<style scoped>\n",
       "    .dataframe tbody tr th:only-of-type {\n",
       "        vertical-align: middle;\n",
       "    }\n",
       "\n",
       "    .dataframe tbody tr th {\n",
       "        vertical-align: top;\n",
       "    }\n",
       "\n",
       "    .dataframe thead th {\n",
       "        text-align: right;\n",
       "    }\n",
       "</style>\n",
       "<table border=\"1\" class=\"dataframe\">\n",
       "  <thead>\n",
       "    <tr style=\"text-align: right;\">\n",
       "      <th></th>\n",
       "      <th>Subject</th>\n",
       "      <th>Score</th>\n",
       "    </tr>\n",
       "  </thead>\n",
       "  <tbody>\n",
       "    <tr>\n",
       "      <th>0</th>\n",
       "      <td>Mathematics</td>\n",
       "      <td>85</td>\n",
       "    </tr>\n",
       "    <tr>\n",
       "      <th>1</th>\n",
       "      <td>History</td>\n",
       "      <td>98</td>\n",
       "    </tr>\n",
       "  </tbody>\n",
       "</table>\n",
       "</div>"
      ],
      "text/plain": [
       "       Subject  Score\n",
       "0  Mathematics     85\n",
       "1      History     98"
      ]
     },
     "execution_count": 21,
     "metadata": {},
     "output_type": "execute_result"
    }
   ],
   "source": [
    "# Create a list of dictionaries where each dictionary represents a subject and its corresponding score\n",
    "scores = [\n",
    "    {'Subject': 'Mathematics', 'Score': 85},  # Mathematics score\n",
    "    {'Subject': 'History', 'Score': 98},      # History score\n",
    "    {'Subject': 'English', 'Score': 76},      # English score\n",
    "    {'Subject': 'Science', 'Score': 72},      # Science score\n",
    "    {'Subject': 'Arts', 'Score': 95},         # Arts score\n",
    "]\n",
    "\n",
    "# Convert the list of dictionaries into a Pandas DataFrame\n",
    "# This will create a table-like structure with 'Subject' and 'Score' as columns\n",
    "my_df = pd.DataFrame(scores)\n",
    "\n",
    "# Display the first 2 rows of the DataFrame to preview the data\n",
    "my_df.head(2)"
   ]
  },
  {
   "cell_type": "code",
   "execution_count": 22,
   "id": "48dec068-fb06-4876-95a9-5bcf2a9940e2",
   "metadata": {},
   "outputs": [
    {
     "data": {
      "text/html": [
       "<div>\n",
       "<style scoped>\n",
       "    .dataframe tbody tr th:only-of-type {\n",
       "        vertical-align: middle;\n",
       "    }\n",
       "\n",
       "    .dataframe tbody tr th {\n",
       "        vertical-align: top;\n",
       "    }\n",
       "\n",
       "    .dataframe thead th {\n",
       "        text-align: right;\n",
       "    }\n",
       "</style>\n",
       "<table border=\"1\" class=\"dataframe\">\n",
       "  <thead>\n",
       "    <tr style=\"text-align: right;\">\n",
       "      <th></th>\n",
       "      <th>Subject</th>\n",
       "      <th>Score</th>\n",
       "    </tr>\n",
       "  </thead>\n",
       "  <tbody>\n",
       "    <tr>\n",
       "      <th>3</th>\n",
       "      <td>Science</td>\n",
       "      <td>72</td>\n",
       "    </tr>\n",
       "    <tr>\n",
       "      <th>4</th>\n",
       "      <td>Arts</td>\n",
       "      <td>95</td>\n",
       "    </tr>\n",
       "  </tbody>\n",
       "</table>\n",
       "</div>"
      ],
      "text/plain": [
       "   Subject  Score\n",
       "3  Science     72\n",
       "4     Arts     95"
      ]
     },
     "execution_count": 22,
     "metadata": {},
     "output_type": "execute_result"
    }
   ],
   "source": [
    "# Create a Pandas DataFrame from the 'scores' data (could be a list of dicts, dict of lists, etc.)\n",
    "my_df = pd.DataFrame(scores)\n",
    "\n",
    "# Display the last 2 rows of the DataFrame\n",
    "my_df.tail(2)"
   ]
  },
  {
   "cell_type": "code",
   "execution_count": 23,
   "id": "b79ebe31-5cc5-4c8d-ba40-0d77d14720ef",
   "metadata": {},
   "outputs": [
    {
     "name": "stdout",
     "output_type": "stream",
     "text": [
      "<class 'pandas.core.frame.DataFrame'>\n",
      "RangeIndex: 5 entries, 0 to 4\n",
      "Data columns (total 2 columns):\n",
      " #   Column   Non-Null Count  Dtype \n",
      "---  ------   --------------  ----- \n",
      " 0   Subject  5 non-null      object\n",
      " 1   Score    5 non-null      int64 \n",
      "dtypes: int64(1), object(1)\n",
      "memory usage: 208.0+ bytes\n"
     ]
    }
   ],
   "source": [
    "# Create a new Pandas DataFrame from the 'scores' data (could be a list of dicts, dict of lists, etc.)\n",
    "my_df = pd.DataFrame(scores)\n",
    "\n",
    "# Display a concise summary of the DataFrame, including column names, data types, and non-null counts\n",
    "my_df.info()"
   ]
  },
  {
   "cell_type": "code",
   "execution_count": 24,
   "id": "e26d0c1e-6c86-40f8-ad12-2e651d25f0a4",
   "metadata": {},
   "outputs": [
    {
     "data": {
      "text/html": [
       "<div>\n",
       "<style scoped>\n",
       "    .dataframe tbody tr th:only-of-type {\n",
       "        vertical-align: middle;\n",
       "    }\n",
       "\n",
       "    .dataframe tbody tr th {\n",
       "        vertical-align: top;\n",
       "    }\n",
       "\n",
       "    .dataframe thead th {\n",
       "        text-align: right;\n",
       "    }\n",
       "</style>\n",
       "<table border=\"1\" class=\"dataframe\">\n",
       "  <thead>\n",
       "    <tr style=\"text-align: right;\">\n",
       "      <th></th>\n",
       "      <th>Score</th>\n",
       "    </tr>\n",
       "  </thead>\n",
       "  <tbody>\n",
       "    <tr>\n",
       "      <th>count</th>\n",
       "      <td>5.000000</td>\n",
       "    </tr>\n",
       "    <tr>\n",
       "      <th>mean</th>\n",
       "      <td>85.200000</td>\n",
       "    </tr>\n",
       "    <tr>\n",
       "      <th>std</th>\n",
       "      <td>11.388591</td>\n",
       "    </tr>\n",
       "    <tr>\n",
       "      <th>min</th>\n",
       "      <td>72.000000</td>\n",
       "    </tr>\n",
       "    <tr>\n",
       "      <th>25%</th>\n",
       "      <td>76.000000</td>\n",
       "    </tr>\n",
       "    <tr>\n",
       "      <th>50%</th>\n",
       "      <td>85.000000</td>\n",
       "    </tr>\n",
       "    <tr>\n",
       "      <th>75%</th>\n",
       "      <td>95.000000</td>\n",
       "    </tr>\n",
       "    <tr>\n",
       "      <th>max</th>\n",
       "      <td>98.000000</td>\n",
       "    </tr>\n",
       "  </tbody>\n",
       "</table>\n",
       "</div>"
      ],
      "text/plain": [
       "           Score\n",
       "count   5.000000\n",
       "mean   85.200000\n",
       "std    11.388591\n",
       "min    72.000000\n",
       "25%    76.000000\n",
       "50%    85.000000\n",
       "75%    95.000000\n",
       "max    98.000000"
      ]
     },
     "execution_count": 24,
     "metadata": {},
     "output_type": "execute_result"
    }
   ],
   "source": [
    "# Create a Pandas DataFrame from the 'scores' data (which could be a list, dictionary, or array)\n",
    "my_df = pd.DataFrame(scores)\n",
    "\n",
    "# Generate descriptive statistics for the DataFrame\n",
    "# This includes count, mean, standard deviation, min, max, and quartile values\n",
    "my_df.describe()"
   ]
  },
  {
   "cell_type": "markdown",
   "id": "0df18077-2a11-405c-a32c-b3147ce9782a",
   "metadata": {},
   "source": [
    "### 2.3. Importing Data in Pandas\n",
    "You can import data from various sources into your Pandas dataframe."
   ]
  },
  {
   "cell_type": "markdown",
   "id": "5fd3e7c9-f711-42a0-9d4f-d4fe7edadfb2",
   "metadata": {},
   "source": [
    "#### 2.3.1. Importing CSV Files\n",
    "A CSV file is a type of file where each line contains a single record,\n",
    "and all the columns are separated from each other via a comma.\n",
    "You can read CSV files using the read_csv()\n",
    "function of the Pandas\n",
    "dataframe"
   ]
  },
  {
   "cell_type": "code",
   "execution_count": 25,
   "id": "bba41dfc-b35b-4abd-bed6-2e43971d3261",
   "metadata": {},
   "outputs": [
    {
     "data": {
      "text/html": [
       "<div>\n",
       "<style scoped>\n",
       "    .dataframe tbody tr th:only-of-type {\n",
       "        vertical-align: middle;\n",
       "    }\n",
       "\n",
       "    .dataframe tbody tr th {\n",
       "        vertical-align: top;\n",
       "    }\n",
       "\n",
       "    .dataframe thead th {\n",
       "        text-align: right;\n",
       "    }\n",
       "</style>\n",
       "<table border=\"1\" class=\"dataframe\">\n",
       "  <thead>\n",
       "    <tr style=\"text-align: right;\">\n",
       "      <th></th>\n",
       "      <th>sepal_length</th>\n",
       "      <th>sepal_width</th>\n",
       "      <th>petal_length</th>\n",
       "      <th>petal_width</th>\n",
       "      <th>species</th>\n",
       "    </tr>\n",
       "  </thead>\n",
       "  <tbody>\n",
       "    <tr>\n",
       "      <th>0</th>\n",
       "      <td>5.1</td>\n",
       "      <td>3.5</td>\n",
       "      <td>1.4</td>\n",
       "      <td>0.2</td>\n",
       "      <td>Iris-setosa</td>\n",
       "    </tr>\n",
       "    <tr>\n",
       "      <th>1</th>\n",
       "      <td>4.9</td>\n",
       "      <td>3.0</td>\n",
       "      <td>1.4</td>\n",
       "      <td>0.2</td>\n",
       "      <td>Iris-setosa</td>\n",
       "    </tr>\n",
       "    <tr>\n",
       "      <th>2</th>\n",
       "      <td>4.7</td>\n",
       "      <td>3.2</td>\n",
       "      <td>1.3</td>\n",
       "      <td>0.2</td>\n",
       "      <td>Iris-setosa</td>\n",
       "    </tr>\n",
       "    <tr>\n",
       "      <th>3</th>\n",
       "      <td>4.6</td>\n",
       "      <td>3.1</td>\n",
       "      <td>1.5</td>\n",
       "      <td>0.2</td>\n",
       "      <td>Iris-setosa</td>\n",
       "    </tr>\n",
       "    <tr>\n",
       "      <th>4</th>\n",
       "      <td>5.0</td>\n",
       "      <td>3.6</td>\n",
       "      <td>1.4</td>\n",
       "      <td>0.2</td>\n",
       "      <td>Iris-setosa</td>\n",
       "    </tr>\n",
       "  </tbody>\n",
       "</table>\n",
       "</div>"
      ],
      "text/plain": [
       "   sepal_length  sepal_width  petal_length  petal_width      species\n",
       "0           5.1          3.5           1.4          0.2  Iris-setosa\n",
       "1           4.9          3.0           1.4          0.2  Iris-setosa\n",
       "2           4.7          3.2           1.3          0.2  Iris-setosa\n",
       "3           4.6          3.1           1.5          0.2  Iris-setosa\n",
       "4           5.0          3.6           1.4          0.2  Iris-setosa"
      ]
     },
     "execution_count": 25,
     "metadata": {},
     "output_type": "execute_result"
    }
   ],
   "source": [
    "url = \"https://raw.githubusercontent.com/duochen/Data-Science-Launchpad/refs/heads/main/Lecture03/Exercises/Data/iris_data.csv\"\n",
    "\n",
    "# Read the CSV file from the specified path into a DataFrame called 'iris_data'\n",
    "# Replace the file path with your actual dataset location if needed\n",
    "iris_data = pd.read_csv(url)\n",
    "\n",
    "# Display the first 5 rows of the DataFrame to get a quick look at the data\n",
    "iris_data.head()"
   ]
  },
  {
   "cell_type": "code",
   "execution_count": null,
   "id": "6be88818-98ac-4193-b9e0-bbe50d9fbcd3",
   "metadata": {},
   "outputs": [],
   "source": []
  }
 ],
 "metadata": {
  "kernelspec": {
   "display_name": "Python 3 (ipykernel)",
   "language": "python",
   "name": "python3"
  },
  "language_info": {
   "codemirror_mode": {
    "name": "ipython",
    "version": 3
   },
   "file_extension": ".py",
   "mimetype": "text/x-python",
   "name": "python",
   "nbconvert_exporter": "python",
   "pygments_lexer": "ipython3",
   "version": "3.9.21"
  }
 },
 "nbformat": 4,
 "nbformat_minor": 5
}
