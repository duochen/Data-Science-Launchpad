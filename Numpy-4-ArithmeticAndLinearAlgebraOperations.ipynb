{
 "cells": [
  {
   "cell_type": "markdown",
   "id": "d6da0d41-ed56-47b9-944c-1b27914cc424",
   "metadata": {},
   "source": [
    "## 1. Arithmetic Operations with NumPy\n",
    "NumPy arrays provide a variety of functions to perform arithmetic\n",
    "operations."
   ]
  },
  {
   "cell_type": "markdown",
   "id": "5f294ea1-04f8-4631-af84-53845ef33ab3",
   "metadata": {},
   "source": [
    "### 1.1 Finding Square Roots\n",
    "The sqrt() function is used to find the square roots of all the elements in a\n",
    "list"
   ]
  },
  {
   "cell_type": "code",
   "execution_count": 3,
   "id": "2fd836bd-a884-409d-8722-66ebb381f057",
   "metadata": {},
   "outputs": [
    {
     "name": "stdout",
     "output_type": "stream",
     "text": [
      "[3.16227766 4.47213595 5.47722558 6.32455532 7.07106781]\n"
     ]
    }
   ],
   "source": [
    "# Import the numpy library and give it the alias 'np' for easy access\n",
    "import numpy as np\n",
    "\n",
    "# Define a list of numbers\n",
    "nums = [10, 20, 30, 40, 50]\n",
    "\n",
    "# Use numpy's sqrt function to compute the square root of each element in the list\n",
    "# Note: np.sqrt automatically converts the list to a numpy array\n",
    "np_sqr = np.sqrt(nums)\n",
    "\n",
    "# Print the resulting numpy array of square roots\n",
    "print(np_sqr)"
   ]
  },
  {
   "cell_type": "markdown",
   "id": "31be67c3-4fe4-4554-9353-557cfce3f5d2",
   "metadata": {},
   "source": [
    "### 1.2. Finding Logs\n",
    "The log() function is used to find the logs of all the elements in a list"
   ]
  },
  {
   "cell_type": "code",
   "execution_count": 5,
   "id": "b717c173-c03f-4d16-bcd5-52d2c619b5ce",
   "metadata": {},
   "outputs": [
    {
     "name": "stdout",
     "output_type": "stream",
     "text": [
      "[2.30258509 2.99573227 3.40119738 3.68887945 3.91202301]\n"
     ]
    }
   ],
   "source": [
    "# Define a list of numbers\n",
    "nums = [10, 20, 30, 40, 50]\n",
    "\n",
    "# Compute the natural logarithm (base e) of each element in the list using numpy's log function\n",
    "np_log = np.log(nums)\n",
    "\n",
    "# Print the resulting array of natural logarithms\n",
    "print(np_log)\n"
   ]
  },
  {
   "cell_type": "markdown",
   "id": "29fda82f-70a9-4817-b6d9-3cd6521ec0cb",
   "metadata": {},
   "source": [
    "### 1.3. Finding Exponents\n",
    "The exp() function takes the exponents of all the elements in a list"
   ]
  },
  {
   "cell_type": "code",
   "execution_count": 7,
   "id": "0dd00635-f93e-4f6e-90c0-dc8177f28efb",
   "metadata": {},
   "outputs": [
    {
     "name": "stdout",
     "output_type": "stream",
     "text": [
      "[2.20264658e+04 4.85165195e+08 1.06864746e+13 2.35385267e+17\n",
      " 5.18470553e+21]\n"
     ]
    }
   ],
   "source": [
    "# Define a Python list of numbers\n",
    "nums = [10, 20, 30, 40, 50]\n",
    "\n",
    "# Compute the exponential (e^x) of each number in the list\n",
    "# np.exp applies the exponential function element-wise to the array\n",
    "np_exp = np.exp(nums)\n",
    "\n",
    "# Print the resulting numpy array of exponentials\n",
    "print(np_exp)"
   ]
  },
  {
   "cell_type": "markdown",
   "id": "c92c18d3-174f-4247-aded-cc6ab7b727d0",
   "metadata": {},
   "source": [
    "### 1.4. Finding Sine and Cosine\n",
    "You can find the sines and cosines of items in a list using the sine and cosine\n",
    "function, respectively"
   ]
  },
  {
   "cell_type": "code",
   "execution_count": 8,
   "id": "ed5c0301-648a-4d04-8d90-1b095ef44619",
   "metadata": {},
   "outputs": [
    {
     "name": "stdout",
     "output_type": "stream",
     "text": [
      "[-0.54402111  0.91294525 -0.98803162  0.74511316 -0.26237485]\n",
      "[-0.83907153  0.40808206  0.15425145 -0.66693806  0.96496603]\n"
     ]
    }
   ],
   "source": [
    "# Create a Python list of numbers\n",
    "nums = [10, 20, 30, 40, 50]\n",
    "\n",
    "# Apply the numpy sine function to each element in the list\n",
    "# np.sin expects the input in radians, so these values will be treated as radians\n",
    "np_sine = np.sin(nums)\n",
    "\n",
    "# Print the resulting array of sine values\n",
    "print(np_sine)\n",
    "\n",
    "# Reset the nums list (not necessary here since it hasn't changed)\n",
    "nums = [10, 20, 30, 40, 50]\n",
    "\n",
    "# Apply the numpy cosine function to each element in the list\n",
    "# np.cos also expects the input in radians\n",
    "np_cos = np.cos(nums)\n",
    "\n",
    "# Print the resulting array of cosine values\n",
    "print(np_cos)\n"
   ]
  },
  {
   "cell_type": "markdown",
   "id": "ef9956a3-bce9-44f1-bba6-cb6f4ac63283",
   "metadata": {},
   "source": [
    "## 2. NumPy for Linear Algebra Operations\n",
    "Data science makes extensive use of linear algebra. The support for\n",
    "performing advanced linear algebra functions quickly and efficiently makes\n",
    "NumPy one of the most routinely used libraries for data science. In this\n",
    "section, you will perform some of the most linear algebraic operations with\n",
    "NumPy."
   ]
  },
  {
   "cell_type": "markdown",
   "id": "77aab421-ef5f-4f7c-a043-6eca3a278098",
   "metadata": {},
   "source": [
    "### 2.1. Finding the Matrix Dot Product\n",
    "To find a matrix dot product, you can use the dot() function. To find the dot\n",
    "product, the number of columns in the first matrix must match the number of\n",
    "rows in the second matrix."
   ]
  },
  {
   "cell_type": "code",
   "execution_count": 9,
   "id": "fe422d7b-f078-4bda-a723-59de142c99ae",
   "metadata": {},
   "outputs": [
    {
     "name": "stdout",
     "output_type": "stream",
     "text": [
      "[[-2.4649127   3.37438331 -0.53709299  1.14242599]\n",
      " [-3.72465358  2.17270064 -0.30247285  1.0346814 ]\n",
      " [-1.88389333 -1.26145002  0.8108699  -1.17992989]\n",
      " [ 1.71057131  0.42784236  1.47044998  2.02463457]]\n"
     ]
    }
   ],
   "source": [
    "# Create a 4x5 matrix (4 rows, 5 columns) filled with random numbers from a standard normal distribution\n",
    "A = np.random.randn(4, 5)\n",
    "\n",
    "# Create a 5x4 matrix (5 rows, 4 columns) filled with random numbers from a standard normal distribution\n",
    "B = np.random.randn(5, 4)\n",
    "\n",
    "# Compute the dot product (matrix multiplication) of A and B\n",
    "# The result Z will be a 4x4 matrix because (4x5) • (5x4) = (4x4)\n",
    "Z = np.dot(A, B)\n",
    "\n",
    "# Print the resulting 4x4 matrix\n",
    "print(Z)\n"
   ]
  },
  {
   "cell_type": "markdown",
   "id": "52c6e8d1-89e4-456b-ba8c-0174b7ebf3a9",
   "metadata": {},
   "source": [
    "### 2.2. Element-wise Matrix Multiplication\n",
    "In addition to finding the dot product of two matrices, you can element-wise\n",
    "multiply two matrices. To do so, you can use the multiply() function."
   ]
  },
  {
   "cell_type": "code",
   "execution_count": 10,
   "id": "821ac1b2-b600-4ce9-8596-cb3e92b08ce5",
   "metadata": {},
   "outputs": [
    {
     "name": "stdout",
     "output_type": "stream",
     "text": [
      "[[ 100  144  169]\n",
      " [2025 1024  256]\n",
      " [2025 1024  256]]\n"
     ]
    }
   ],
   "source": [
    "# Define three rows as Python lists\n",
    "row1 = [10, 12, 13]  # First row of numbers\n",
    "row2 = [45, 32, 16]  # Second row of numbers\n",
    "row3 = [45, 32, 16]  # Third row of numbers\n",
    "\n",
    "# Create a 2D NumPy array from the three rows\n",
    "nums_2d = np.array([row1, row2, row3])\n",
    "\n",
    "# Perform element-wise multiplication of the array with itself\n",
    "# This squares each element in the 2D array\n",
    "multiply = np.multiply(nums_2d, nums_2d)\n",
    "\n",
    "# Print the resulting 2D array where each element is squared\n",
    "print(multiply)"
   ]
  },
  {
   "cell_type": "markdown",
   "id": "a1bfbc0d-a7d5-4490-af4d-462fa0d685f6",
   "metadata": {},
   "source": [
    "### 2.3. Finding the Matrix Inverse\n",
    "You find the inverse of a matrix via the linalg.inv() function"
   ]
  },
  {
   "cell_type": "code",
   "execution_count": 11,
   "id": "45dac117-28c8-47bc-9ccb-d3580119a351",
   "metadata": {},
   "outputs": [
    {
     "name": "stdout",
     "output_type": "stream",
     "text": [
      "[[ 0.70588235 -1.          0.58823529]\n",
      " [ 1.29411765 -1.          0.41176471]\n",
      " [-0.76470588  1.         -0.47058824]]\n"
     ]
    }
   ],
   "source": [
    "# Define three rows as Python lists\n",
    "row1 = [1, 2, 3]\n",
    "row2 = [5, 2, 8]\n",
    "row3 = [9, 1, 10]\n",
    "\n",
    "# Create a 2D NumPy array (matrix) from the three rows\n",
    "nums_2d = np.array([row1, row2, row3])\n",
    "\n",
    "# Compute the inverse of the 2D matrix using NumPy's linear algebra module\n",
    "inverse = np.linalg.inv(nums_2d)\n",
    "\n",
    "# Print the inverse matrix\n",
    "print(inverse)\n"
   ]
  },
  {
   "cell_type": "markdown",
   "id": "bf861e85-e54c-4613-be36-52ff6c4b5fb7",
   "metadata": {},
   "source": [
    "### 2.4. Finding the Matrix Determinant\n",
    "The determinant of a matrix can be found using the linalg.det() function"
   ]
  },
  {
   "cell_type": "code",
   "execution_count": 12,
   "id": "8d5af411-1834-401c-8efd-76a23d7457f9",
   "metadata": {},
   "outputs": [
    {
     "name": "stdout",
     "output_type": "stream",
     "text": [
      "16.999999999999993\n"
     ]
    }
   ],
   "source": [
    "# Define three lists, each representing a row of a 3x3 matrix\n",
    "row1 = [1, 2, 3]     # First row of the matrix\n",
    "row2 = [5, 2, 8]     # Second row of the matrix\n",
    "row3 = [9, 1, 10]    # Third row of the matrix\n",
    "\n",
    "# Create a 2D NumPy array (matrix) from the three rows\n",
    "nums_2d = np.array([row1, row2, row3])\n",
    "\n",
    "# Compute the determinant of the matrix using NumPy's linear algebra module\n",
    "determinant = np.linalg.det(nums_2d)\n",
    "\n",
    "# Print the determinant of the matrix\n",
    "print(determinant)"
   ]
  },
  {
   "cell_type": "markdown",
   "id": "50fb063c-1c69-4a34-b758-83100d1a0d64",
   "metadata": {},
   "source": [
    "### 2.5. Finding the Matrix Trace\n",
    "The trace of a matrix refers to the sum of all the elements along the diagonal\n",
    "of a matrix. To find the trace of a matrix, you can use the trace() function"
   ]
  },
  {
   "cell_type": "code",
   "execution_count": 13,
   "id": "a8fb67fd-a9de-480f-8f44-8a77b15d1500",
   "metadata": {},
   "outputs": [
    {
     "name": "stdout",
     "output_type": "stream",
     "text": [
      "15\n"
     ]
    }
   ],
   "source": [
    "# Define three rows of numbers as Python lists\n",
    "row1 = [1, 2, 3]\n",
    "row2 = [4, 5, 6]\n",
    "row3 = [7, 8, 9]\n",
    "\n",
    "# Create a 2D NumPy array (matrix) from the three rows\n",
    "nums_2d = np.array([row1, row2, row3])\n",
    "\n",
    "# Calculate the trace of the matrix (sum of diagonal elements: 1 + 5 + 9)\n",
    "trace = np.trace(nums_2d)\n",
    "\n",
    "# Print the result (should output 15)\n",
    "print(trace)\n"
   ]
  },
  {
   "cell_type": "markdown",
   "id": "2c5b1dd0-188b-4cd7-b0af-758209e8a0cd",
   "metadata": {},
   "source": [
    "### 2.6. Solving a System of Linear Equations with Python\n",
    "Now that you know how to use the NumPy library to perform various linear\n",
    "algebra functions, let’s try to solve a system of linear equations, which is one\n",
    "of the most basic problems in linear algebra.\n",
    "A system of linear equations refers to a collection of equations with some\n",
    "unknown variables. Solving a system of linear equations refers to finding the\n",
    "values of the unknown variables in equations. One of the ways to solve a\n",
    "system of linear equations is via matrices."
   ]
  },
  {
   "cell_type": "code",
   "execution_count": 14,
   "id": "d075ab18-8551-470f-b571-a055d2211d3f",
   "metadata": {},
   "outputs": [
    {
     "name": "stdout",
     "output_type": "stream",
     "text": [
      "[[ 0.22222222 -0.16666667]\n",
      " [-0.11111111  0.33333333]]\n",
      "[4. 6.]\n"
     ]
    }
   ],
   "source": [
    "# Define a 2x2 matrix A\n",
    "A = np.array([[6, 3], \n",
    "              [2, 4]])\n",
    "\n",
    "# Define a 1D array (vector) B\n",
    "B = np.array([42, 32])\n",
    "\n",
    "# Calculate the inverse of matrix A using NumPy's linear algebra module\n",
    "A_inv = np.linalg.inv(A)\n",
    "\n",
    "# Print the inverse of A\n",
    "print(A_inv)\n",
    "\n",
    "# Solve for X in the equation A * X = B by multiplying A_inv and B\n",
    "# This is equivalent to X = A⁻¹ * B\n",
    "X = np.dot(A_inv, B)\n",
    "\n",
    "# Print the solution vector X\n",
    "print(X)\n"
   ]
  },
  {
   "cell_type": "code",
   "execution_count": null,
   "id": "a68b1c57-e343-4916-bac9-0c6aa9c4315a",
   "metadata": {},
   "outputs": [],
   "source": []
  }
 ],
 "metadata": {
  "kernelspec": {
   "display_name": "Python 3 (ipykernel)",
   "language": "python",
   "name": "python3"
  },
  "language_info": {
   "codemirror_mode": {
    "name": "ipython",
    "version": 3
   },
   "file_extension": ".py",
   "mimetype": "text/x-python",
   "name": "python",
   "nbconvert_exporter": "python",
   "pygments_lexer": "ipython3",
   "version": "3.9.21"
  }
 },
 "nbformat": 4,
 "nbformat_minor": 5
}
